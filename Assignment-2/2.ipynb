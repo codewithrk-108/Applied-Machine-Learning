{
 "cells": [
  {
   "cell_type": "code",
   "execution_count": 241,
   "id": "7585863d",
   "metadata": {},
   "outputs": [],
   "source": [
    "import numpy as np\n",
    "import os\n",
    "from random import randrange\n",
    "from matplotlib import pyplot as plt\n",
    "from PIL import Image\n",
    "from scipy.stats import multivariate_normal\n",
    "import pandas as pd\n",
    "import sklearn\n",
    "from sklearn.datasets import load_wine\n",
    "from sklearn.cluster import KMeans\n",
    "from sklearn.metrics import silhouette_score"
   ]
  },
  {
   "cell_type": "code",
   "execution_count": 242,
   "id": "5f887be1",
   "metadata": {},
   "outputs": [],
   "source": [
    "class PCA:\n",
    "    \n",
    "    \"\"\"\n",
    "    Standardize the data by subtracting respective means of features\n",
    "    \"\"\"\n",
    "    \n",
    "    def standardize(self,data_input):\n",
    "        mean = np.mean(data_input,axis = 0)\n",
    "        return data_input - mean\n",
    "    \n",
    "    \"\"\"\n",
    "    Extract the eigen values from X-transpose-X\n",
    "    X-transpose-X => Covariance matrix\n",
    "    \"\"\"\n",
    "    \n",
    "    def eigenvalueExtraction(self,data_input):\n",
    "        std_data = self.standardize(data_input)\n",
    "        cov_matrix = np.matmul(std_data.T, std_data)\n",
    "        eigen_vals, eigen_vectors = np.linalg.eig(cov_matrix)\n",
    "        return std_data,eigen_vals,eigen_vectors\n",
    "    \n",
    "    \"\"\"\n",
    "    Select k eigen vectors for dimensionality reduction\n",
    "    \"\"\"\n",
    "    \n",
    "    def dimensionReduction(self,eig_val,eig_vec,k):\n",
    "        return eig_val[:k],eig_vec[:,:k]\n",
    "    \n",
    "    \"\"\"\n",
    "    Reconstruction step for the scaled input data (normalized)\n",
    "    \"\"\"\n",
    "    \n",
    "    def reconstruction(self,scaled_X,eig_vec):\n",
    "        return np.matmul(scaled_X,eig_vec)\n",
    "\n",
    "    \"\"\"\n",
    "    Master function for applying PCA on a feature vector/vectors\n",
    "    \"\"\"\n",
    "    \n",
    "    def apply_pca(self,data,k=1):\n",
    "        A, eigen_vals, eigen_vectors = self.eigenvalueExtraction(data)\n",
    "        eigen_vals_red , eigen_vectors_red = self.dimensionReduction(eigen_vals,eigen_vectors,k)\n",
    "        red_output_matrix = self.reconstruction(A,eigen_vectors_red)\n",
    "        return A,eigen_vals,eigen_vectors,red_output_matrix"
   ]
  },
  {
   "cell_type": "markdown",
   "id": "cd9e7317",
   "metadata": {},
   "source": [
    "<h2>Read Customer dataset</h2>"
   ]
  },
  {
   "cell_type": "code",
   "execution_count": 243,
   "id": "f8aec2c7",
   "metadata": {},
   "outputs": [],
   "source": [
    "data = pd.read_csv('./problem2-dataset1/data.csv')"
   ]
  },
  {
   "cell_type": "code",
   "execution_count": 244,
   "id": "83a2c055",
   "metadata": {},
   "outputs": [
    {
     "data": {
      "text/html": [
       "<div>\n",
       "<style scoped>\n",
       "    .dataframe tbody tr th:only-of-type {\n",
       "        vertical-align: middle;\n",
       "    }\n",
       "\n",
       "    .dataframe tbody tr th {\n",
       "        vertical-align: top;\n",
       "    }\n",
       "\n",
       "    .dataframe thead th {\n",
       "        text-align: right;\n",
       "    }\n",
       "</style>\n",
       "<table border=\"1\" class=\"dataframe\">\n",
       "  <thead>\n",
       "    <tr style=\"text-align: right;\">\n",
       "      <th></th>\n",
       "      <th>Index</th>\n",
       "      <th>Gender</th>\n",
       "      <th>Marital status</th>\n",
       "      <th>Age</th>\n",
       "      <th>Education</th>\n",
       "      <th>Income</th>\n",
       "      <th>Occupation</th>\n",
       "      <th>Settlement size</th>\n",
       "    </tr>\n",
       "  </thead>\n",
       "  <tbody>\n",
       "    <tr>\n",
       "      <th>0</th>\n",
       "      <td>0</td>\n",
       "      <td>0</td>\n",
       "      <td>0</td>\n",
       "      <td>67</td>\n",
       "      <td>2</td>\n",
       "      <td>124670</td>\n",
       "      <td>1</td>\n",
       "      <td>2</td>\n",
       "    </tr>\n",
       "    <tr>\n",
       "      <th>1</th>\n",
       "      <td>1</td>\n",
       "      <td>1</td>\n",
       "      <td>1</td>\n",
       "      <td>22</td>\n",
       "      <td>1</td>\n",
       "      <td>150773</td>\n",
       "      <td>1</td>\n",
       "      <td>2</td>\n",
       "    </tr>\n",
       "    <tr>\n",
       "      <th>2</th>\n",
       "      <td>2</td>\n",
       "      <td>0</td>\n",
       "      <td>0</td>\n",
       "      <td>49</td>\n",
       "      <td>1</td>\n",
       "      <td>89210</td>\n",
       "      <td>0</td>\n",
       "      <td>0</td>\n",
       "    </tr>\n",
       "    <tr>\n",
       "      <th>3</th>\n",
       "      <td>3</td>\n",
       "      <td>0</td>\n",
       "      <td>0</td>\n",
       "      <td>45</td>\n",
       "      <td>1</td>\n",
       "      <td>171565</td>\n",
       "      <td>1</td>\n",
       "      <td>1</td>\n",
       "    </tr>\n",
       "    <tr>\n",
       "      <th>4</th>\n",
       "      <td>4</td>\n",
       "      <td>0</td>\n",
       "      <td>0</td>\n",
       "      <td>53</td>\n",
       "      <td>1</td>\n",
       "      <td>149031</td>\n",
       "      <td>1</td>\n",
       "      <td>1</td>\n",
       "    </tr>\n",
       "    <tr>\n",
       "      <th>...</th>\n",
       "      <td>...</td>\n",
       "      <td>...</td>\n",
       "      <td>...</td>\n",
       "      <td>...</td>\n",
       "      <td>...</td>\n",
       "      <td>...</td>\n",
       "      <td>...</td>\n",
       "      <td>...</td>\n",
       "    </tr>\n",
       "    <tr>\n",
       "      <th>1995</th>\n",
       "      <td>1995</td>\n",
       "      <td>1</td>\n",
       "      <td>0</td>\n",
       "      <td>47</td>\n",
       "      <td>1</td>\n",
       "      <td>123525</td>\n",
       "      <td>0</td>\n",
       "      <td>0</td>\n",
       "    </tr>\n",
       "    <tr>\n",
       "      <th>1996</th>\n",
       "      <td>1996</td>\n",
       "      <td>1</td>\n",
       "      <td>1</td>\n",
       "      <td>27</td>\n",
       "      <td>1</td>\n",
       "      <td>117744</td>\n",
       "      <td>1</td>\n",
       "      <td>0</td>\n",
       "    </tr>\n",
       "    <tr>\n",
       "      <th>1997</th>\n",
       "      <td>1997</td>\n",
       "      <td>0</td>\n",
       "      <td>0</td>\n",
       "      <td>31</td>\n",
       "      <td>0</td>\n",
       "      <td>86400</td>\n",
       "      <td>0</td>\n",
       "      <td>0</td>\n",
       "    </tr>\n",
       "    <tr>\n",
       "      <th>1998</th>\n",
       "      <td>1998</td>\n",
       "      <td>1</td>\n",
       "      <td>1</td>\n",
       "      <td>24</td>\n",
       "      <td>1</td>\n",
       "      <td>97968</td>\n",
       "      <td>0</td>\n",
       "      <td>0</td>\n",
       "    </tr>\n",
       "    <tr>\n",
       "      <th>1999</th>\n",
       "      <td>1999</td>\n",
       "      <td>0</td>\n",
       "      <td>0</td>\n",
       "      <td>25</td>\n",
       "      <td>0</td>\n",
       "      <td>68416</td>\n",
       "      <td>0</td>\n",
       "      <td>0</td>\n",
       "    </tr>\n",
       "  </tbody>\n",
       "</table>\n",
       "<p>2000 rows × 8 columns</p>\n",
       "</div>"
      ],
      "text/plain": [
       "      Index  Gender  Marital status  Age  Education  Income  Occupation  \\\n",
       "0         0       0               0   67          2  124670           1   \n",
       "1         1       1               1   22          1  150773           1   \n",
       "2         2       0               0   49          1   89210           0   \n",
       "3         3       0               0   45          1  171565           1   \n",
       "4         4       0               0   53          1  149031           1   \n",
       "...     ...     ...             ...  ...        ...     ...         ...   \n",
       "1995   1995       1               0   47          1  123525           0   \n",
       "1996   1996       1               1   27          1  117744           1   \n",
       "1997   1997       0               0   31          0   86400           0   \n",
       "1998   1998       1               1   24          1   97968           0   \n",
       "1999   1999       0               0   25          0   68416           0   \n",
       "\n",
       "      Settlement size  \n",
       "0                   2  \n",
       "1                   2  \n",
       "2                   0  \n",
       "3                   1  \n",
       "4                   1  \n",
       "...               ...  \n",
       "1995                0  \n",
       "1996                0  \n",
       "1997                0  \n",
       "1998                0  \n",
       "1999                0  \n",
       "\n",
       "[2000 rows x 8 columns]"
      ]
     },
     "execution_count": 244,
     "metadata": {},
     "output_type": "execute_result"
    }
   ],
   "source": [
    "data"
   ]
  },
  {
   "cell_type": "code",
   "execution_count": 245,
   "id": "f378eb22",
   "metadata": {},
   "outputs": [
    {
     "data": {
      "text/plain": [
       "(2000, 8)"
      ]
     },
     "execution_count": 245,
     "metadata": {},
     "output_type": "execute_result"
    }
   ],
   "source": [
    "data_to_np = np.array(data)\n",
    "data_to_np.shape"
   ]
  },
  {
   "cell_type": "code",
   "execution_count": 246,
   "id": "c43e6b77",
   "metadata": {},
   "outputs": [],
   "source": [
    "# remove index column above which is unrelated to our usecase\n",
    "processed_data = data_to_np[:,1:]"
   ]
  },
  {
   "cell_type": "code",
   "execution_count": 247,
   "id": "e9e6e549",
   "metadata": {},
   "outputs": [
    {
     "data": {
      "text/plain": [
       "(2000, 7)"
      ]
     },
     "execution_count": 247,
     "metadata": {},
     "output_type": "execute_result"
    }
   ],
   "source": [
    "processed_data.shape"
   ]
  },
  {
   "cell_type": "code",
   "execution_count": 329,
   "id": "5b3c35f6",
   "metadata": {},
   "outputs": [],
   "source": [
    "# This class made some by ChatGPT\n",
    "# made some by me\n",
    "class GMM(PCA):\n",
    "    def __init__(self):\n",
    "        self.weights = None\n",
    "        self.means = None\n",
    "        self.covariances = None\n",
    "        self.n_components = None\n",
    "\n",
    "    def initialize_parameters(self, data, n_components,feature_extract,flag):\n",
    "        self.n_components = n_components\n",
    "        self.weights = np.ones(self.n_components) / self.n_components\n",
    "        self.k = feature_extract\n",
    "        if flag==0:\n",
    "            _,_,_,self.reduced_pca_data = self.apply_pca(data,feature_extract)\n",
    "        else:\n",
    "            self.reduced_pca_data = data\n",
    "        self.means = self.reduced_pca_data[np.random.choice(self.reduced_pca_data.shape[0], self.n_components, replace=False), :]\n",
    "        self.covariances = [np.cov(self.reduced_pca_data, rowvar=False)] * self.n_components\n",
    "\n",
    "    def e_step(self, data):\n",
    "        responsibilities = np.zeros((data.shape[0], self.n_components))\n",
    "        for i in range(self.n_components):\n",
    "            responsibilities[:, i] = self.weights[i] * multivariate_normal(self.means[i], self.covariances[i]).pdf(data)\n",
    "        \n",
    "        responsibilities = responsibilities / responsibilities.sum(axis=1, keepdims=True)\n",
    "        \n",
    "        return responsibilities\n",
    "\n",
    "    def m_step(self, data, responsibilities):\n",
    "        for i in range(self.n_components):\n",
    "            weight = responsibilities[:, i].sum()\n",
    "            mean = (data * responsibilities[:, i, np.newaxis]).sum(axis=0) / weight\n",
    "            covariance = np.dot((responsibilities[:, i, np.newaxis] * (data - mean)).T, (data - mean)) / weight\n",
    "\n",
    "            self.weights[i] = weight / data.shape[0]\n",
    "            self.means[i] = mean\n",
    "            self.covariances[i] = covariance\n",
    "\n",
    "    def compute_log_likelihood(self):\n",
    "        log_likelihood = 0\n",
    "        for i in range(self.n_components):\n",
    "            log_likelihood += self.weights[i] * multivariate_normal(self.means[i], self.covariances[i]).pdf(self.reduced_pca_data)\n",
    "        return np.log(log_likelihood).sum()\n",
    "\n",
    "    def fit(self, data, n_components,feature_extract=3,tol=1e-4, max_iter=100,flag=0):\n",
    "        self.initialize_parameters(data, n_components,feature_extract,flag)\n",
    "        log_likelihood = 0\n",
    "        for iteration in range(max_iter):\n",
    "            responsibilities = self.e_step(self.reduced_pca_data)\n",
    "            self.m_step(self.reduced_pca_data, responsibilities)\n",
    "            new_log_likelihood = self.compute_log_likelihood()\n",
    "            \n",
    "            if abs(new_log_likelihood - log_likelihood) < tol:\n",
    "                break\n",
    "            log_likelihood = new_log_likelihood\n",
    "\n",
    "    def get_parameters(self):\n",
    "        return {\n",
    "            \"weights\": self.weights,\n",
    "            \"means\": self.means,\n",
    "            \"covariances\": self.covariances\n",
    "        }\n",
    "\n",
    "    def predict(self, data):\n",
    "        likelihoods = np.zeros((data.shape[0], self.n_components))\n",
    "        for i in range(self.n_components):\n",
    "            likelihoods[:, i] = self.weights[i] * multivariate_normal(self.means[i], self.covariances[i]).pdf(data)\n",
    "        return likelihoods\n",
    "\n",
    "    def predict_membership(self):\n",
    "        responsibilities = self.e_step(self.reduced_pca_data)\n",
    "        return responsibilities.argmax(axis=1)\n",
    "\n",
    "    def compute_aic(self):\n",
    "        k = self.n_components * (self.reduced_pca_data.shape[1] + self.reduced_pca_data.shape[1] * (self.reduced_pca_data.shape[1] + 1) / 2 + 1)\n",
    "        log_likelihood = self.compute_log_likelihood()\n",
    "        aic = 2*k - 2*log_likelihood\n",
    "        return aic\n",
    "\n",
    "    def compute_bic(self):\n",
    "        k = self.n_components * (self.reduced_pca_data.shape[1] + self.reduced_pca_data.shape[1] * (self.reduced_pca_data.shape[1] + 1) / 2 + 1)\n",
    "        log_likelihood = self.compute_log_likelihood()\n",
    "        bic = np.log(self.reduced_pca_data.shape[0]) * k - 2 * log_likelihood\n",
    "        return bic"
   ]
  },
  {
   "cell_type": "code",
   "execution_count": 295,
   "id": "8a2b7be8",
   "metadata": {},
   "outputs": [],
   "source": [
    "gmm_model = GMM()\n",
    "number_of_clusters = 3"
   ]
  },
  {
   "cell_type": "code",
   "execution_count": 296,
   "id": "1f71e026",
   "metadata": {},
   "outputs": [],
   "source": [
    "gmm_model.fit(processed_data,number_of_clusters)"
   ]
  },
  {
   "cell_type": "code",
   "execution_count": 297,
   "id": "ae8af8de",
   "metadata": {},
   "outputs": [
    {
     "data": {
      "text/plain": [
       "-33340.66214384696"
      ]
     },
     "execution_count": 297,
     "metadata": {},
     "output_type": "execute_result"
    }
   ],
   "source": [
    "gmm_model.compute_log_likelihood()"
   ]
  },
  {
   "cell_type": "markdown",
   "id": "c8d3463e",
   "metadata": {},
   "source": [
    "<h2>Parameters for GMM</h2>"
   ]
  },
  {
   "cell_type": "code",
   "execution_count": 298,
   "id": "e260321e",
   "metadata": {},
   "outputs": [],
   "source": [
    "dictionary_params = gmm_model.get_parameters()"
   ]
  },
  {
   "cell_type": "code",
   "execution_count": 299,
   "id": "89508f0b",
   "metadata": {},
   "outputs": [
    {
     "data": {
      "text/plain": [
       "{'weights': array([0.33728684, 0.33286486, 0.3298483 ]),\n",
       " 'means': array([[ 2.65221851e+04, -1.99946637e+00, -4.80738485e-01],\n",
       "        [ 9.48586752e+02, -5.83333754e+00,  4.98133984e-01],\n",
       "        [-2.80775596e+04,  7.93124230e+00, -1.11097521e-02]]),\n",
       " 'covariances': [array([[4.82198755e+08, 3.00957026e+04, 5.35731839e+03],\n",
       "         [3.00957026e+04, 5.21795888e+01, 1.02536323e+00],\n",
       "         [5.35731839e+03, 1.02536323e+00, 1.92223769e-01]]),\n",
       "  array([[4.39083666e+08, 2.97930441e+03, 4.96483350e+02],\n",
       "         [2.97930441e+03, 2.96928880e+01, 9.92012411e-01],\n",
       "         [4.96483350e+02, 9.92012411e-01, 5.05398623e-01]]),\n",
       "  array([[ 1.95595954e+09,  2.48719129e+05,  6.26983415e+03],\n",
       "         [ 2.48719129e+05,  1.83719449e+02, -1.19965200e-02],\n",
       "         [ 6.26983415e+03, -1.19965200e-02,  6.41640319e-01]])]}"
      ]
     },
     "execution_count": 299,
     "metadata": {},
     "output_type": "execute_result"
    }
   ],
   "source": [
    "dictionary_params"
   ]
  },
  {
   "cell_type": "markdown",
   "id": "8bbf9d76",
   "metadata": {},
   "source": [
    "<h3>Log likelihood graph</h3>"
   ]
  },
  {
   "cell_type": "code",
   "execution_count": null,
   "id": "a5837415",
   "metadata": {},
   "outputs": [],
   "source": [
    "LL_values = []\n",
    "for iterations in range(1,105):\n",
    "    \n",
    "    gmm_model.fit(processed_data,number_of_clusters,max_iter=iterations)\n",
    "    LL_values.append(gmm_model.compute_log_likelihood())\n",
    "\n",
    "# print(len(LL_values))\n",
    "plt.plot(np.linspace(1,104,104),LL_values)"
   ]
  },
  {
   "cell_type": "markdown",
   "id": "8792ad7b",
   "metadata": {},
   "source": [
    "<h2>Wine dataset using GMM and K means</h2>"
   ]
  },
  {
   "cell_type": "code",
   "execution_count": 301,
   "id": "d8942725",
   "metadata": {},
   "outputs": [],
   "source": [
    "(data,target) = load_wine(return_X_y=True, as_frame=False)"
   ]
  },
  {
   "cell_type": "code",
   "execution_count": 302,
   "id": "5d11c41b",
   "metadata": {},
   "outputs": [
    {
     "data": {
      "text/plain": [
       "(178, 13)"
      ]
     },
     "execution_count": 302,
     "metadata": {},
     "output_type": "execute_result"
    }
   ],
   "source": [
    "data.shape"
   ]
  },
  {
   "cell_type": "code",
   "execution_count": 303,
   "id": "df043121",
   "metadata": {},
   "outputs": [],
   "source": [
    "df = pd.DataFrame(data)"
   ]
  },
  {
   "cell_type": "code",
   "execution_count": 304,
   "id": "b68870e8",
   "metadata": {},
   "outputs": [
    {
     "data": {
      "text/plain": [
       "(178,)"
      ]
     },
     "execution_count": 304,
     "metadata": {},
     "output_type": "execute_result"
    }
   ],
   "source": [
    "target.shape"
   ]
  },
  {
   "cell_type": "code",
   "execution_count": 305,
   "id": "efa99eb1",
   "metadata": {},
   "outputs": [],
   "source": [
    "df[\"Labels\"] = target"
   ]
  },
  {
   "cell_type": "code",
   "execution_count": 306,
   "id": "4cf4a22c",
   "metadata": {},
   "outputs": [
    {
     "data": {
      "image/png": "[encoded data removed]",
      "text/plain": [
       "<Figure size 432x288 with 1 Axes>"
      ]
     },
     "metadata": {
      "needs_background": "light"
     },
     "output_type": "display_data"
    }
   ],
   "source": [
    "plt.bar([\"None\",\"Alchol\",\"Malic Acid\"],[df.loc[df[\"Labels\"]==0].shape[0],df.loc[df[\"Labels\"]==1].shape[0], \\\n",
    "                                        df.loc[df[\"Labels\"]==2].shape[0]])\n",
    "plt.show()"
   ]
  },
  {
   "cell_type": "code",
   "execution_count": 307,
   "id": "45fdbd2f",
   "metadata": {},
   "outputs": [
    {
     "data": {
      "text/html": [
       "<div>\n",
       "<style scoped>\n",
       "    .dataframe tbody tr th:only-of-type {\n",
       "        vertical-align: middle;\n",
       "    }\n",
       "\n",
       "    .dataframe tbody tr th {\n",
       "        vertical-align: top;\n",
       "    }\n",
       "\n",
       "    .dataframe thead th {\n",
       "        text-align: right;\n",
       "    }\n",
       "</style>\n",
       "<table border=\"1\" class=\"dataframe\">\n",
       "  <thead>\n",
       "    <tr style=\"text-align: right;\">\n",
       "      <th></th>\n",
       "      <th>0</th>\n",
       "      <th>1</th>\n",
       "      <th>2</th>\n",
       "      <th>3</th>\n",
       "      <th>4</th>\n",
       "      <th>5</th>\n",
       "      <th>6</th>\n",
       "      <th>7</th>\n",
       "      <th>8</th>\n",
       "      <th>9</th>\n",
       "      <th>10</th>\n",
       "      <th>11</th>\n",
       "      <th>12</th>\n",
       "      <th>Labels</th>\n",
       "    </tr>\n",
       "  </thead>\n",
       "  <tbody>\n",
       "    <tr>\n",
       "      <th>0</th>\n",
       "      <td>14.23</td>\n",
       "      <td>1.71</td>\n",
       "      <td>2.43</td>\n",
       "      <td>15.6</td>\n",
       "      <td>127.0</td>\n",
       "      <td>2.80</td>\n",
       "      <td>3.06</td>\n",
       "      <td>0.28</td>\n",
       "      <td>2.29</td>\n",
       "      <td>5.64</td>\n",
       "      <td>1.04</td>\n",
       "      <td>3.92</td>\n",
       "      <td>1065.0</td>\n",
       "      <td>0</td>\n",
       "    </tr>\n",
       "    <tr>\n",
       "      <th>1</th>\n",
       "      <td>13.20</td>\n",
       "      <td>1.78</td>\n",
       "      <td>2.14</td>\n",
       "      <td>11.2</td>\n",
       "      <td>100.0</td>\n",
       "      <td>2.65</td>\n",
       "      <td>2.76</td>\n",
       "      <td>0.26</td>\n",
       "      <td>1.28</td>\n",
       "      <td>4.38</td>\n",
       "      <td>1.05</td>\n",
       "      <td>3.40</td>\n",
       "      <td>1050.0</td>\n",
       "      <td>0</td>\n",
       "    </tr>\n",
       "    <tr>\n",
       "      <th>2</th>\n",
       "      <td>13.16</td>\n",
       "      <td>2.36</td>\n",
       "      <td>2.67</td>\n",
       "      <td>18.6</td>\n",
       "      <td>101.0</td>\n",
       "      <td>2.80</td>\n",
       "      <td>3.24</td>\n",
       "      <td>0.30</td>\n",
       "      <td>2.81</td>\n",
       "      <td>5.68</td>\n",
       "      <td>1.03</td>\n",
       "      <td>3.17</td>\n",
       "      <td>1185.0</td>\n",
       "      <td>0</td>\n",
       "    </tr>\n",
       "    <tr>\n",
       "      <th>3</th>\n",
       "      <td>14.37</td>\n",
       "      <td>1.95</td>\n",
       "      <td>2.50</td>\n",
       "      <td>16.8</td>\n",
       "      <td>113.0</td>\n",
       "      <td>3.85</td>\n",
       "      <td>3.49</td>\n",
       "      <td>0.24</td>\n",
       "      <td>2.18</td>\n",
       "      <td>7.80</td>\n",
       "      <td>0.86</td>\n",
       "      <td>3.45</td>\n",
       "      <td>1480.0</td>\n",
       "      <td>0</td>\n",
       "    </tr>\n",
       "    <tr>\n",
       "      <th>4</th>\n",
       "      <td>13.24</td>\n",
       "      <td>2.59</td>\n",
       "      <td>2.87</td>\n",
       "      <td>21.0</td>\n",
       "      <td>118.0</td>\n",
       "      <td>2.80</td>\n",
       "      <td>2.69</td>\n",
       "      <td>0.39</td>\n",
       "      <td>1.82</td>\n",
       "      <td>4.32</td>\n",
       "      <td>1.04</td>\n",
       "      <td>2.93</td>\n",
       "      <td>735.0</td>\n",
       "      <td>0</td>\n",
       "    </tr>\n",
       "    <tr>\n",
       "      <th>...</th>\n",
       "      <td>...</td>\n",
       "      <td>...</td>\n",
       "      <td>...</td>\n",
       "      <td>...</td>\n",
       "      <td>...</td>\n",
       "      <td>...</td>\n",
       "      <td>...</td>\n",
       "      <td>...</td>\n",
       "      <td>...</td>\n",
       "      <td>...</td>\n",
       "      <td>...</td>\n",
       "      <td>...</td>\n",
       "      <td>...</td>\n",
       "      <td>...</td>\n",
       "    </tr>\n",
       "    <tr>\n",
       "      <th>173</th>\n",
       "      <td>13.71</td>\n",
       "      <td>5.65</td>\n",
       "      <td>2.45</td>\n",
       "      <td>20.5</td>\n",
       "      <td>95.0</td>\n",
       "      <td>1.68</td>\n",
       "      <td>0.61</td>\n",
       "      <td>0.52</td>\n",
       "      <td>1.06</td>\n",
       "      <td>7.70</td>\n",
       "      <td>0.64</td>\n",
       "      <td>1.74</td>\n",
       "      <td>740.0</td>\n",
       "      <td>2</td>\n",
       "    </tr>\n",
       "    <tr>\n",
       "      <th>174</th>\n",
       "      <td>13.40</td>\n",
       "      <td>3.91</td>\n",
       "      <td>2.48</td>\n",
       "      <td>23.0</td>\n",
       "      <td>102.0</td>\n",
       "      <td>1.80</td>\n",
       "      <td>0.75</td>\n",
       "      <td>0.43</td>\n",
       "      <td>1.41</td>\n",
       "      <td>7.30</td>\n",
       "      <td>0.70</td>\n",
       "      <td>1.56</td>\n",
       "      <td>750.0</td>\n",
       "      <td>2</td>\n",
       "    </tr>\n",
       "    <tr>\n",
       "      <th>175</th>\n",
       "      <td>13.27</td>\n",
       "      <td>4.28</td>\n",
       "      <td>2.26</td>\n",
       "      <td>20.0</td>\n",
       "      <td>120.0</td>\n",
       "      <td>1.59</td>\n",
       "      <td>0.69</td>\n",
       "      <td>0.43</td>\n",
       "      <td>1.35</td>\n",
       "      <td>10.20</td>\n",
       "      <td>0.59</td>\n",
       "      <td>1.56</td>\n",
       "      <td>835.0</td>\n",
       "      <td>2</td>\n",
       "    </tr>\n",
       "    <tr>\n",
       "      <th>176</th>\n",
       "      <td>13.17</td>\n",
       "      <td>2.59</td>\n",
       "      <td>2.37</td>\n",
       "      <td>20.0</td>\n",
       "      <td>120.0</td>\n",
       "      <td>1.65</td>\n",
       "      <td>0.68</td>\n",
       "      <td>0.53</td>\n",
       "      <td>1.46</td>\n",
       "      <td>9.30</td>\n",
       "      <td>0.60</td>\n",
       "      <td>1.62</td>\n",
       "      <td>840.0</td>\n",
       "      <td>2</td>\n",
       "    </tr>\n",
       "    <tr>\n",
       "      <th>177</th>\n",
       "      <td>14.13</td>\n",
       "      <td>4.10</td>\n",
       "      <td>2.74</td>\n",
       "      <td>24.5</td>\n",
       "      <td>96.0</td>\n",
       "      <td>2.05</td>\n",
       "      <td>0.76</td>\n",
       "      <td>0.56</td>\n",
       "      <td>1.35</td>\n",
       "      <td>9.20</td>\n",
       "      <td>0.61</td>\n",
       "      <td>1.60</td>\n",
       "      <td>560.0</td>\n",
       "      <td>2</td>\n",
       "    </tr>\n",
       "  </tbody>\n",
       "</table>\n",
       "<p>178 rows × 14 columns</p>\n",
       "</div>"
      ],
      "text/plain": [
       "         0     1     2     3      4     5     6     7     8      9    10  \\\n",
       "0    14.23  1.71  2.43  15.6  127.0  2.80  3.06  0.28  2.29   5.64  1.04   \n",
       "1    13.20  1.78  2.14  11.2  100.0  2.65  2.76  0.26  1.28   4.38  1.05   \n",
       "2    13.16  2.36  2.67  18.6  101.0  2.80  3.24  0.30  2.81   5.68  1.03   \n",
       "3    14.37  1.95  2.50  16.8  113.0  3.85  3.49  0.24  2.18   7.80  0.86   \n",
       "4    13.24  2.59  2.87  21.0  118.0  2.80  2.69  0.39  1.82   4.32  1.04   \n",
       "..     ...   ...   ...   ...    ...   ...   ...   ...   ...    ...   ...   \n",
       "173  13.71  5.65  2.45  20.5   95.0  1.68  0.61  0.52  1.06   7.70  0.64   \n",
       "174  13.40  3.91  2.48  23.0  102.0  1.80  0.75  0.43  1.41   7.30  0.70   \n",
       "175  13.27  4.28  2.26  20.0  120.0  1.59  0.69  0.43  1.35  10.20  0.59   \n",
       "176  13.17  2.59  2.37  20.0  120.0  1.65  0.68  0.53  1.46   9.30  0.60   \n",
       "177  14.13  4.10  2.74  24.5   96.0  2.05  0.76  0.56  1.35   9.20  0.61   \n",
       "\n",
       "       11      12  Labels  \n",
       "0    3.92  1065.0       0  \n",
       "1    3.40  1050.0       0  \n",
       "2    3.17  1185.0       0  \n",
       "3    3.45  1480.0       0  \n",
       "4    2.93   735.0       0  \n",
       "..    ...     ...     ...  \n",
       "173  1.74   740.0       2  \n",
       "174  1.56   750.0       2  \n",
       "175  1.56   835.0       2  \n",
       "176  1.62   840.0       2  \n",
       "177  1.60   560.0       2  \n",
       "\n",
       "[178 rows x 14 columns]"
      ]
     },
     "execution_count": 307,
     "metadata": {},
     "output_type": "execute_result"
    }
   ],
   "source": [
    "df"
   ]
  },
  {
   "cell_type": "markdown",
   "id": "8ca63440",
   "metadata": {},
   "source": [
    "<h2>Perform K means Clustering</h2>"
   ]
  },
  {
   "cell_type": "code",
   "execution_count": 308,
   "id": "b9fef1d8",
   "metadata": {},
   "outputs": [
    {
     "name": "stderr",
     "output_type": "stream",
     "text": [
      "/home/rohan/.local/lib/python3.10/site-packages/sklearn/cluster/_kmeans.py:1412: FutureWarning: The default value of `n_init` will change from 10 to 'auto' in 1.4. Set the value of `n_init` explicitly to suppress the warning\n",
      "  super()._check_params_vs_input(X, default_n_init=10)\n"
     ]
    },
    {
     "data": {
      "image/png": "[encoded data removed]",
      "text/plain": [
       "<Figure size 432x288 with 1 Axes>"
      ]
     },
     "metadata": {
      "needs_background": "light"
     },
     "output_type": "display_data"
    }
   ],
   "source": [
    "# Let us take the number of clusters as k\n",
    "k = 3\n",
    "\n",
    "scaled_data = (data - np.mean(data,axis=0))/np.std(data,axis=0)\n",
    "kmeans = KMeans(n_clusters=k)\n",
    "kmeans.fit(scaled_data)\n",
    "\n",
    "\n",
    "centroids = kmeans.cluster_centers_\n",
    "labels = kmeans.labels_\n",
    "\n",
    "\n",
    "# did -ve of reduced  pca data because my custom pca gives -ve of eigen vectors compared to inbuilt pca\n",
    "\n",
    "# apply pca to reduce the dimensions to two dimensions\n",
    "_,_,_,reduced_dim_data_centroids = gmm_model.apply_pca(np.vstack((data,(np.std(data,axis=0)*centroids)+np.mean(data,axis=0))),2)\n",
    "\n",
    "\n",
    "colors = [\"g.\", \"r.\", \"c.\", \"b.\", \"k.\", \"o.\"]\n",
    "\n",
    "\n",
    "for i in range(len(reduced_dim_data_centroids[:reduced_dim_data_centroids.shape[0] - centroids.shape[0]])):\n",
    "    plt.plot(-reduced_dim_data_centroids[i][0], -reduced_dim_data_centroids[i][1], colors[target[i]], markersize=10)\n",
    "\n",
    "plt.xlabel('Principal Component 1')\n",
    "plt.ylabel('Principal Component 2')\n",
    "\n",
    "plt.title('K means Clustering')\n",
    "\n",
    "plt.scatter(-reduced_dim_data_centroids[reduced_dim_data_centroids.shape[0] - centroids.shape[0] :, 0],-reduced_dim_data_centroids[reduced_dim_data_centroids.shape[0] - centroids.shape[0]: , 1], marker='o',color='b', s=450)\n",
    "plt.show()"
   ]
  },
  {
   "cell_type": "markdown",
   "id": "84417164",
   "metadata": {},
   "source": [
    "<h2>Tuning the hyperparameter of number of clusters using AIC and BIC scores</h2>"
   ]
  },
  {
   "cell_type": "code",
   "execution_count": 310,
   "id": "ebfbcc62",
   "metadata": {},
   "outputs": [
    {
     "data": {
      "image/png": "[encoded data removed]",
      "text/plain": [
       "<Figure size 720x432 with 1 Axes>"
      ]
     },
     "metadata": {
      "needs_background": "light"
     },
     "output_type": "display_data"
    }
   ],
   "source": [
    "# apply AIC BIC scores\n",
    "\n",
    "n_clusters = range(1, 11)  # Adjust the range if necessary\n",
    "aics = []\n",
    "bics = []\n",
    "\n",
    "for n_cluster in n_clusters:\n",
    "    # Initialize and fit the GMM\n",
    "    gmm_model = GMM()\n",
    "    gmm_model.fit(data,n_cluster)\n",
    "    \n",
    "    # Append AIC and BIC to lists\n",
    "    aics.append(gmm_model.compute_aic())\n",
    "    bics.append(gmm_model.compute_bic())\n",
    "\n",
    "# Plot AIC and BIC scores\n",
    "plt.figure(figsize=(10, 6))\n",
    "plt.plot(n_clusters, aics, label='AIC', marker='o')\n",
    "plt.plot(n_clusters, bics, label='BIC', marker='o')\n",
    "plt.xlabel('Number of components')\n",
    "plt.ylabel('Score')\n",
    "plt.title('AIC and BIC scores vs. Number of Components')\n",
    "plt.legend()\n",
    "plt.show()"
   ]
  },
  {
   "cell_type": "markdown",
   "id": "0b50b9dc",
   "metadata": {},
   "source": [
    "\n",
    "In the above graph we can observe :\n",
    "- Number of clusters = 3 yields the best AIC and BIC (simultaneously)\n"
   ]
  },
  {
   "cell_type": "markdown",
   "id": "dff00fd7",
   "metadata": {},
   "source": [
    "<h2>Plotting the clusters thus formed by GMM</h2>"
   ]
  },
  {
   "cell_type": "code",
   "execution_count": 311,
   "id": "a4cd02d9",
   "metadata": {},
   "outputs": [],
   "source": [
    "gmm_model = GMM()\n",
    "gmm_model.fit(data,3)"
   ]
  },
  {
   "cell_type": "code",
   "execution_count": 312,
   "id": "fb2b4f51",
   "metadata": {},
   "outputs": [],
   "source": [
    "# store all the possible cluster id's for which the point has maximum likelihood to belong to\n",
    "membership_status = gmm_model.predict_membership()\n",
    "_,_,_,reduced_dimensions = gmm_model.apply_pca(data,2)"
   ]
  },
  {
   "cell_type": "code",
   "execution_count": 313,
   "id": "6e09c9e0",
   "metadata": {},
   "outputs": [
    {
     "data": {
      "text/plain": [
       "array([1, 1, 1, 1, 2, 1, 1, 1, 1, 1, 1, 1, 1, 1, 1, 1, 1, 1, 1, 1, 1, 1,\n",
       "       1, 1, 0, 2, 1, 1, 1, 1, 1, 1, 1, 1, 1, 1, 1, 1, 1, 1, 1, 1, 1, 2,\n",
       "       1, 1, 1, 1, 1, 1, 1, 1, 1, 1, 1, 1, 1, 1, 1, 2, 2, 2, 0, 0, 2, 0,\n",
       "       0, 0, 1, 1, 1, 0, 0, 2, 1, 2, 0, 1, 1, 0, 0, 0, 0, 0, 0, 2, 0, 0,\n",
       "       0, 0, 0, 0, 0, 0, 2, 1, 1, 0, 0, 0, 0, 0, 0, 0, 0, 0, 0, 0, 0, 0,\n",
       "       2, 0, 2, 0, 0, 0, 0, 2, 0, 0, 0, 2, 0, 0, 0, 0, 0, 0, 0, 0, 1, 2,\n",
       "       0, 2, 0, 0, 0, 0, 0, 0, 0, 0, 0, 0, 1, 0, 0, 0, 0, 2, 2, 2, 2, 0,\n",
       "       0, 0, 0, 0, 0, 0, 0, 2, 2, 2, 0, 0, 2, 0, 0, 2, 0, 0, 0, 0, 0, 2,\n",
       "       2, 0])"
      ]
     },
     "execution_count": 313,
     "metadata": {},
     "output_type": "execute_result"
    }
   ],
   "source": [
    "membership_status"
   ]
  },
  {
   "cell_type": "code",
   "execution_count": 314,
   "id": "68a85727",
   "metadata": {},
   "outputs": [
    {
     "data": {
      "text/plain": [
       "(178, 2)"
      ]
     },
     "execution_count": 314,
     "metadata": {},
     "output_type": "execute_result"
    }
   ],
   "source": [
    "reduced_dimensions.shape"
   ]
  },
  {
   "cell_type": "code",
   "execution_count": 315,
   "id": "6a1df3c4",
   "metadata": {},
   "outputs": [
    {
     "data": {
      "image/png": "[encoded data removed]",
      "text/plain": [
       "<Figure size 432x288 with 1 Axes>"
      ]
     },
     "metadata": {
      "needs_background": "light"
     },
     "output_type": "display_data"
    }
   ],
   "source": [
    "\"\"\"\n",
    "SCATTER PLOT\n",
    "\"\"\"\n",
    "\n",
    "colors = [\"g.\", \"r.\",\"c.\"]\n",
    "\n",
    "for i in range(reduced_dimensions.shape[0]):\n",
    "    plt.plot(-reduced_dimensions[i,0],-reduced_dimensions[i,1], colors[membership_status[i]],markersize=10)\n",
    "\n",
    "plt.title('GMM Clustering illustration')\n",
    "plt.xlabel('Principal Component 1')\n",
    "plt.ylabel('Principal Component 2')\n",
    "\n",
    "plt.show()"
   ]
  },
  {
   "cell_type": "markdown",
   "id": "83f93664",
   "metadata": {},
   "source": [
    "<h2>KNN vs GMM (Silhoutte Scores)</h2>"
   ]
  },
  {
   "cell_type": "code",
   "execution_count": 316,
   "id": "b4ae4ad7",
   "metadata": {},
   "outputs": [
    {
     "name": "stderr",
     "output_type": "stream",
     "text": [
      "/home/rohan/.local/lib/python3.10/site-packages/sklearn/cluster/_kmeans.py:1412: FutureWarning: The default value of `n_init` will change from 10 to 'auto' in 1.4. Set the value of `n_init` explicitly to suppress the warning\n",
      "  super()._check_params_vs_input(X, default_n_init=10)\n",
      "/home/rohan/.local/lib/python3.10/site-packages/sklearn/cluster/_kmeans.py:1412: FutureWarning: The default value of `n_init` will change from 10 to 'auto' in 1.4. Set the value of `n_init` explicitly to suppress the warning\n",
      "  super()._check_params_vs_input(X, default_n_init=10)\n",
      "/home/rohan/.local/lib/python3.10/site-packages/sklearn/cluster/_kmeans.py:1412: FutureWarning: The default value of `n_init` will change from 10 to 'auto' in 1.4. Set the value of `n_init` explicitly to suppress the warning\n",
      "  super()._check_params_vs_input(X, default_n_init=10)\n",
      "/home/rohan/.local/lib/python3.10/site-packages/sklearn/cluster/_kmeans.py:1412: FutureWarning: The default value of `n_init` will change from 10 to 'auto' in 1.4. Set the value of `n_init` explicitly to suppress the warning\n",
      "  super()._check_params_vs_input(X, default_n_init=10)\n",
      "/home/rohan/.local/lib/python3.10/site-packages/sklearn/cluster/_kmeans.py:1412: FutureWarning: The default value of `n_init` will change from 10 to 'auto' in 1.4. Set the value of `n_init` explicitly to suppress the warning\n",
      "  super()._check_params_vs_input(X, default_n_init=10)\n",
      "/home/rohan/.local/lib/python3.10/site-packages/sklearn/cluster/_kmeans.py:1412: FutureWarning: The default value of `n_init` will change from 10 to 'auto' in 1.4. Set the value of `n_init` explicitly to suppress the warning\n",
      "  super()._check_params_vs_input(X, default_n_init=10)\n",
      "/home/rohan/.local/lib/python3.10/site-packages/sklearn/cluster/_kmeans.py:1412: FutureWarning: The default value of `n_init` will change from 10 to 'auto' in 1.4. Set the value of `n_init` explicitly to suppress the warning\n",
      "  super()._check_params_vs_input(X, default_n_init=10)\n",
      "/home/rohan/.local/lib/python3.10/site-packages/sklearn/cluster/_kmeans.py:1412: FutureWarning: The default value of `n_init` will change from 10 to 'auto' in 1.4. Set the value of `n_init` explicitly to suppress the warning\n",
      "  super()._check_params_vs_input(X, default_n_init=10)\n",
      "/home/rohan/.local/lib/python3.10/site-packages/sklearn/cluster/_kmeans.py:1412: FutureWarning: The default value of `n_init` will change from 10 to 'auto' in 1.4. Set the value of `n_init` explicitly to suppress the warning\n",
      "  super()._check_params_vs_input(X, default_n_init=10)\n"
     ]
    },
    {
     "data": {
      "text/plain": [
       "Text(0.5, 1.0, 'Silhoutte score vs number of cluster of KMeans')"
      ]
     },
     "execution_count": 316,
     "metadata": {},
     "output_type": "execute_result"
    },
    {
     "data": {
      "image/png": "[encoded data removed]",
      "text/plain": [
       "<Figure size 432x288 with 1 Axes>"
      ]
     },
     "metadata": {
      "needs_background": "light"
     },
     "output_type": "display_data"
    }
   ],
   "source": [
    "from sklearn.preprocessing import StandardScaler\n",
    "\n",
    "scaler = StandardScaler()\n",
    "std_pca = scaler.fit_transform(-gmm_model.reduced_pca_data)\n",
    "\n",
    "\n",
    "sil_score=[]\n",
    "for cluster in range(2,11):\n",
    "    kmeans = KMeans(n_clusters=cluster)\n",
    "    kmeans_labels = kmeans.fit_predict(std_pca)\n",
    "    kmeans_silhouette = silhouette_score(std_pca, kmeans_labels)\n",
    "    \n",
    "    sil_score.append(kmeans_silhouette)\n",
    "# #     print(f\"KMeans Silhouette Score: {kmeans_silhouette}\")\n",
    "\n",
    "plt.plot(list(range(2,11)),sil_score)\n",
    "plt.title('Silhoutte score vs number of cluster of KMeans')"
   ]
  },
  {
   "cell_type": "code",
   "execution_count": 336,
   "id": "9e48b19a",
   "metadata": {},
   "outputs": [
    {
     "data": {
      "text/plain": [
       "Text(0.5, 1.0, 'Silhoutte score vs number of cluster of GMM')"
      ]
     },
     "execution_count": 336,
     "metadata": {},
     "output_type": "execute_result"
    },
    {
     "data": {
      "image/png": "[encoded data removed]",
      "text/plain": [
       "<Figure size 432x288 with 1 Axes>"
      ]
     },
     "metadata": {
      "needs_background": "light"
     },
     "output_type": "display_data"
    }
   ],
   "source": [
    "from sklearn.preprocessing import StandardScaler\n",
    "\n",
    "gmm_model = GMM()\n",
    "gmm_model.fit(std_pca,n_components = cluster,feature_extract=3)\n",
    "    \n",
    "scaler = StandardScaler()\n",
    "std_pca = scaler.fit_transform(-gmm_model.reduced_pca_data)\n",
    "\n",
    "sil_score=[]\n",
    "for cluster in range(2,11):\n",
    "    gmm_model = GMM()\n",
    "    gmm_model.fit(std_pca,n_components = cluster,feature_extract=3,flag=1)\n",
    "    gmm_labels = gmm_model.predict_membership()\n",
    "    gmm_silhouette = silhouette_score(std_pca, gmm_labels)\n",
    "    \n",
    "    sil_score.append(gmm_silhouette)\n",
    "\n",
    "plt.plot(list(range(2,11)),sil_score)\n",
    "plt.title('Silhoutte score vs number of cluster of GMM')\n"
   ]
  },
  {
   "cell_type": "markdown",
   "id": "8c71ba94",
   "metadata": {},
   "source": [
    "## Observations\n",
    "\n",
    "1) The silhouette score measures how close each data point in one cluster is to the data points in the neighboring clusters. A higher silhouette score indicates that the clusters are well-separated.\n",
    "\n",
    "2) The best clustering is obtained at k=3 for both Kmeans and GMM algorithm"
   ]
  },
  {
   "cell_type": "code",
   "execution_count": null,
   "id": "ae9eba22",
   "metadata": {},
   "outputs": [],
   "source": []
  }
 ],
 "metadata": {
  "kernelspec": {
   "display_name": "Python 3 (ipykernel)",
   "language": "python",
   "name": "python3"
  },
  "language_info": {
   "codemirror_mode": {
    "name": "ipython",
    "version": 3
   },
   "file_extension": ".py",
   "mimetype": "text/x-python",
   "name": "python",
   "nbconvert_exporter": "python",
   "pygments_lexer": "ipython3",
   "version": "3.10.12"
  }
 },
 "nbformat": 4,
 "nbformat_minor": 5
}
