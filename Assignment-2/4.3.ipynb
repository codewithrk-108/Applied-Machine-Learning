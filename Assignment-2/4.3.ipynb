{
 "cells": [
  {
   "cell_type": "code",
   "execution_count": 1,
   "id": "fbe4b6f3",
   "metadata": {},
   "outputs": [],
   "source": [
    "import numpy as np\n",
    "import os\n",
    "from random import randrange\n",
    "from matplotlib import pyplot as plt\n",
    "from PIL import Image\n",
    "from scipy.stats import multivariate_normal\n",
    "import pandas as pd\n",
    "import sklearn\n",
    "from sklearn.datasets import load_wine\n",
    "from sklearn.cluster import KMeans\n",
    "from sklearn.metrics import silhouette_score\n",
    "import pickle"
   ]
  },
  {
   "cell_type": "code",
   "execution_count": 2,
   "id": "9f64735f",
   "metadata": {},
   "outputs": [
    {
     "data": {
      "text/plain": [
       "(100, 2)"
      ]
     },
     "execution_count": 2,
     "metadata": {},
     "output_type": "execute_result"
    }
   ],
   "source": [
    "with open('./problem4-dataset3/colors.pkl','rb') as file:\n",
    "    data = pickle.load(file)\n",
    "data.shape"
   ]
  },
  {
   "cell_type": "code",
   "execution_count": 3,
   "id": "cd9ed1ab",
   "metadata": {},
   "outputs": [],
   "source": [
    "# from earlier question\n",
    "class GMM():\n",
    "    def __init__(self):\n",
    "        self.weights = None\n",
    "        self.means = None\n",
    "        self.covariances = None\n",
    "        self.n_components = None\n",
    "\n",
    "    def initialize_parameters(self, data, n_components):\n",
    "        self.n_components = n_components\n",
    "        self.weights = np.ones(self.n_components) / self.n_components\n",
    "        self.reduced_pca_data = data\n",
    "        self.means = self.reduced_pca_data[np.random.choice(self.reduced_pca_data.shape[0], self.n_components, replace=False), :]\n",
    "        self.covariances = [np.cov(self.reduced_pca_data, rowvar=False)] * self.n_components\n",
    "\n",
    "    def e_step(self, data):\n",
    "        responsibilities = np.zeros((data.shape[0], self.n_components))\n",
    "        for i in range(self.n_components):\n",
    "            responsibilities[:, i] = self.weights[i] * multivariate_normal(self.means[i], self.covariances[i]).pdf(data)\n",
    "        \n",
    "        responsibilities = responsibilities / responsibilities.sum(axis=1, keepdims=True)\n",
    "        \n",
    "        return responsibilities\n",
    "\n",
    "    def m_step(self, data, responsibilities):\n",
    "        for i in range(self.n_components):\n",
    "            weight = responsibilities[:, i].sum()\n",
    "            mean = (data * responsibilities[:, i, np.newaxis]).sum(axis=0) / weight\n",
    "            covariance = np.dot((responsibilities[:, i, np.newaxis] * (data - mean)).T, (data - mean)) / weight\n",
    "\n",
    "            self.weights[i] = weight / data.shape[0]\n",
    "            self.means[i] = mean\n",
    "            self.covariances[i] = covariance\n",
    "\n",
    "    def compute_log_likelihood(self):\n",
    "        log_likelihood = 0\n",
    "        for i in range(self.n_components):\n",
    "            log_likelihood += self.weights[i] * multivariate_normal(self.means[i], self.covariances[i]).pdf(self.reduced_pca_data)\n",
    "        return np.log(log_likelihood).sum()\n",
    "\n",
    "    def fit(self, data, n_components,tol=1e-4, max_iter=10000):\n",
    "        self.initialize_parameters(data, n_components)\n",
    "        log_likelihood = 0\n",
    "        for iteration in range(max_iter):\n",
    "            responsibilities = self.e_step(self.reduced_pca_data)\n",
    "            self.m_step(self.reduced_pca_data, responsibilities)\n",
    "            new_log_likelihood = self.compute_log_likelihood()\n",
    "            \n",
    "            if abs(new_log_likelihood - log_likelihood) < tol:\n",
    "                break\n",
    "            log_likelihood = new_log_likelihood\n",
    "\n",
    "    def get_parameters(self):\n",
    "        return {\n",
    "            \"weights\": self.weights,\n",
    "            \"means\": self.means,\n",
    "            \"covariances\": self.covariances\n",
    "        }\n",
    "\n",
    "    def predict(self, data):\n",
    "        likelihoods = np.zeros((data.shape[0], self.n_components))\n",
    "        for i in range(self.n_components):\n",
    "            likelihoods[:, i] = self.weights[i] * multivariate_normal(self.means[i], self.covariances[i]).pdf(data)\n",
    "        return likelihoods\n",
    "\n",
    "    def predict_membership(self):\n",
    "        responsibilities = self.e_step(self.reduced_pca_data)\n",
    "        return responsibilities.argmax(axis=1)\n",
    "\n",
    "    def compute_aic(self):\n",
    "        k = self.n_components * (self.reduced_pca_data.shape[1] + self.reduced_pca_data.shape[1] * (self.reduced_pca_data.shape[1] + 1) / 2 + 1)\n",
    "        log_likelihood = self.compute_log_likelihood()\n",
    "        aic = 2*k - 2*log_likelihood\n",
    "        return aic\n",
    "\n",
    "    def compute_bic(self):\n",
    "        k = self.n_components * (self.reduced_pca_data.shape[1] + self.reduced_pca_data.shape[1] * (self.reduced_pca_data.shape[1] + 1) / 2 + 1)\n",
    "        log_likelihood = self.compute_log_likelihood()\n",
    "        bic = np.log(self.reduced_pca_data.shape[0]) * k - 2 * log_likelihood\n",
    "        return bic"
   ]
  },
  {
   "cell_type": "code",
   "execution_count": 4,
   "id": "bef6433c",
   "metadata": {},
   "outputs": [],
   "source": [
    "gmm_model = GMM()"
   ]
  },
  {
   "cell_type": "code",
   "execution_count": 5,
   "id": "01d928b1",
   "metadata": {},
   "outputs": [],
   "source": [
    "gmm_model.fit(data,n_components=7)"
   ]
  },
  {
   "cell_type": "code",
   "execution_count": 6,
   "id": "72c1205c",
   "metadata": {},
   "outputs": [
    {
     "data": {
      "text/plain": [
       "{'weights': array([0.17      , 0.17      , 0.29      , 0.08      , 0.2       ,\n",
       "        0.03070919, 0.05929081]),\n",
       " 'means': array([[ 9.95904977e-02,  1.26934805e+02],\n",
       "        [ 2.55165668e+02,  1.27358500e+02],\n",
       "        [ 1.93150109e+02, -1.48663771e-01],\n",
       "        [ 1.26931688e+02,  2.54851953e+02],\n",
       "        [ 1.27172922e+02,  1.26605367e+02],\n",
       "        [-1.85056695e-01,  2.54263077e+02],\n",
       "        [ 5.01806524e-01,  2.54650281e+02]]),\n",
       " 'covariances': [array([[1.6740456 , 0.30152784],\n",
       "         [0.30152784, 0.89468441]]),\n",
       "  array([[ 1.02962702, -0.03525602],\n",
       "         [-0.03525602,  0.57207545]]),\n",
       "  array([[ 4.07655137e+03, -4.05464852e+00],\n",
       "         [-4.05464852e+00,  8.42238281e-01]]),\n",
       "  array([[1.09300803, 0.05372962],\n",
       "         [0.05372962, 0.93233438]]),\n",
       "  array([[ 1.19754433, -0.01923169],\n",
       "         [-0.01923169,  1.70463677]]),\n",
       "  array([[1.12718393, 1.37309409],\n",
       "         [1.37309409, 1.75186213]]),\n",
       "  array([[ 1.74245176, -0.04455929],\n",
       "         [-0.04455929,  0.03684222]])]}"
      ]
     },
     "execution_count": 6,
     "metadata": {},
     "output_type": "execute_result"
    }
   ],
   "source": [
    "gmm_model.get_parameters()"
   ]
  },
  {
   "cell_type": "code",
   "execution_count": 7,
   "id": "9fba626b",
   "metadata": {},
   "outputs": [],
   "source": [
    "# predict cluster for each point\n",
    "predictions = gmm_model.predict_membership()"
   ]
  },
  {
   "cell_type": "code",
   "execution_count": 8,
   "id": "b7169ca5",
   "metadata": {},
   "outputs": [
    {
     "data": {
      "image/png": "[encoded data removed]",
      "text/plain": [
       "<Figure size 432x288 with 1 Axes>"
      ]
     },
     "metadata": {
      "needs_background": "light"
     },
     "output_type": "display_data"
    }
   ],
   "source": [
    "# making a plot for scatter\n",
    "color = ['r','g','b','orange','y','black','purple']\n",
    "for i,sample in enumerate(data):\n",
    "    plt.scatter(sample[0],sample[1],s=20,color=color[predictions[i]])\n",
    "plt.title('Scatter plot of GMM clusters')\n",
    "plt.xlabel('X coordinate')\n",
    "plt.ylabel('Y coordinate')\n",
    "plt.show()"
   ]
  },
  {
   "cell_type": "code",
   "execution_count": 9,
   "id": "71caa9f3",
   "metadata": {},
   "outputs": [
    {
     "data": {
      "image/png": "[encoded data removed]",
      "text/plain": [
       "<Figure size 432x288 with 1 Axes>"
      ]
     },
     "metadata": {
      "needs_background": "light"
     },
     "output_type": "display_data"
    }
   ],
   "source": [
    "# after standardizing a more clear view\n",
    "color = ['r','g','b','orange','y','black','purple']\n",
    "\n",
    "std_data = (data-np.mean(data,axis=0))/np.std(data,axis=0)\n",
    "for i,sample in enumerate(std_data):\n",
    "    plt.scatter(sample[0],sample[1],s=20,color=color[predictions[i]])\n",
    "plt.title('Scatter plot of standardized data for above GMM clusters')\n",
    "plt.xlabel('X coordinate')\n",
    "plt.ylabel('Y coordinate')\n",
    "plt.show()"
   ]
  },
  {
   "cell_type": "markdown",
   "id": "9ef5896a",
   "metadata": {},
   "source": [
    ">"
   ]
  },
  {
   "cell_type": "markdown",
   "id": "e455b017",
   "metadata": {},
   "source": [
    "<h3>Generating data from the Gaussian Components</h3>"
   ]
  },
  {
   "cell_type": "code",
   "execution_count": 21,
   "id": "5137e7b3",
   "metadata": {},
   "outputs": [],
   "source": [
    "def generate_dataset(n, means, covariances,cluster_labels):\n",
    "    data = []\n",
    "\n",
    "    for i in range(n):\n",
    "        # generates 200 samples from each gauissian\n",
    "        each_sample_data = np.random.multivariate_normal(means[i], covariances[i], size=200)\n",
    "        for da in range(200):\n",
    "            cluster_labels.append(i)\n",
    "        data.append(each_sample_data)\n",
    "\n",
    "    dataset = np.vstack(data)\n",
    "    return dataset"
   ]
  },
  {
   "cell_type": "code",
   "execution_count": 22,
   "id": "69012502",
   "metadata": {},
   "outputs": [
    {
     "name": "stdout",
     "output_type": "stream",
     "text": [
      "(400, 2)\n"
     ]
    },
    {
     "name": "stderr",
     "output_type": "stream",
     "text": [
      "/tmp/ipykernel_226373/2446119882.py:6: RuntimeWarning: covariance is not symmetric positive-semidefinite.\n",
      "  each_sample_data = np.random.multivariate_normal(means[i], covariances[i], size=200)\n"
     ]
    }
   ],
   "source": [
    "# number of components, means and covariances\n",
    "n = 2\n",
    "clusters_labels=[]\n",
    "means = np.array([[2, 2], [5, 5]])\n",
    "covariances = np.array([\n",
    "    [[2, 0], [3, 0]],\n",
    "    [[0, 1], [0, 1]]\n",
    "])\n",
    "\n",
    "sample_dataset = generate_dataset(n, means, covariances,clusters_labels)\n",
    "print(sample_dataset.shape)"
   ]
  },
  {
   "cell_type": "code",
   "execution_count": 24,
   "id": "717d041a",
   "metadata": {},
   "outputs": [
    {
     "data": {
      "image/png": "[encoded data removed]",
      "text/plain": [
       "<Figure size 432x288 with 1 Axes>"
      ]
     },
     "metadata": {
      "needs_background": "light"
     },
     "output_type": "display_data"
    }
   ],
   "source": [
    "# making a plot\n",
    "\n",
    "# after standardizing a more clear view\n",
    "color = ['r','g','b','orange','y','black','purple']\n",
    "\n",
    "std_data = (sample_dataset-np.mean(data,axis=0))/np.std(data,axis=0)\n",
    "\n",
    "for i,sample in enumerate(std_data):\n",
    "    plt.scatter(sample[0],sample[1],s=20,color=color[clusters_labels[i]])\n",
    "    \n",
    "plt.title('Scatter plot of generated data for above GMM parameters')\n",
    "plt.xlabel('X coordinate')\n",
    "plt.ylabel('Y coordinate')\n",
    "plt.show()"
   ]
  },
  {
   "cell_type": "markdown",
   "id": "828d27b2",
   "metadata": {},
   "source": [
    "## Observations\n",
    "\n",
    "1) The mean of the sample observation is close to the mean of the component, indicating a typical value for that cluster.\n",
    "\n",
    "2) Since we have multiple Gaussian components, the data generated from a particular component, that particular sample of data is going to belong to the cluster associated with that particular mean as observed by the plot also."
   ]
  },
  {
   "cell_type": "code",
   "execution_count": null,
   "id": "641dd87f",
   "metadata": {},
   "outputs": [],
   "source": []
  }
 ],
 "metadata": {
  "kernelspec": {
   "display_name": "Python 3 (ipykernel)",
   "language": "python",
   "name": "python3"
  },
  "language_info": {
   "codemirror_mode": {
    "name": "ipython",
    "version": 3
   },
   "file_extension": ".py",
   "mimetype": "text/x-python",
   "name": "python",
   "nbconvert_exporter": "python",
   "pygments_lexer": "ipython3",
   "version": "3.10.12"
  }
 },
 "nbformat": 4,
 "nbformat_minor": 5
}
