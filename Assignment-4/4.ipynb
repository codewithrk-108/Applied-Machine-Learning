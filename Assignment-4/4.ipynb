{
 "cells": [
  {
   "attachments": {},
   "cell_type": "markdown",
   "metadata": {},
   "source": [
    "# Random Forest vs Boosted Trees"
   ]
  },
  {
   "cell_type": "code",
   "execution_count": 1,
   "metadata": {},
   "outputs": [
    {
     "name": "stderr",
     "output_type": "stream",
     "text": [
      "/usr/lib/python3/dist-packages/scipy/__init__.py:146: UserWarning: A NumPy version >=1.17.3 and <1.25.0 is required for this version of SciPy (detected version 1.26.1\n",
      "  warnings.warn(f\"A NumPy version >={np_minversion} and <{np_maxversion}\"\n"
     ]
    }
   ],
   "source": [
    "from sklearn.tree import DecisionTreeClassifier \n",
    "from sklearn.tree import DecisionTreeRegressor \n",
    "import numpy as np\n",
    "import random\n",
    "\n",
    "import pandas as pd\n",
    "from sklearn.model_selection import train_test_split\n",
    "from sklearn.preprocessing import LabelEncoder, OneHotEncoder\n",
    "from sklearn.metrics import accuracy_score, mean_squared_error\n",
    "from sklearn.metrics import classification_report\n",
    "from sklearn.metrics import accuracy_score\n",
    "from sklearn.impute import SimpleImputer\n",
    "import warnings\n",
    "import random\n",
    "warnings.simplefilter(action='ignore', category=Warning)"
   ]
  },
  {
   "attachments": {},
   "cell_type": "markdown",
   "metadata": {},
   "source": [
    "# Random Forest"
   ]
  },
  {
   "attachments": {},
   "cell_type": "markdown",
   "metadata": {},
   "source": [
    "## Classification"
   ]
  },
  {
   "cell_type": "code",
   "execution_count": 2,
   "metadata": {},
   "outputs": [],
   "source": [
    "class RandomForestCls:\n",
    "    def __init__(self,n_trees = 100,max_depth = 10,min_samples_split = 2,fraction_samples=1,bootstrap=False):\n",
    "        self.n_trees = n_trees\n",
    "        self.max_depth = max_depth\n",
    "        self.bootstrapping = bootstrap\n",
    "        self.min_samples_split = min_samples_split\n",
    "        self.feature_select_trees = []\n",
    "        self.fraction_samples = fraction_samples\n",
    "\n",
    "        self.trees = []\n",
    "\n",
    "    def _bootstrap(self,X_train,y_train,n_features):\n",
    "            \n",
    "            if self.bootstrapping:\n",
    "                num_samples = X_train.shape[0]\n",
    "                num_resampled_samples = int(num_samples*self.fraction_samples)\n",
    "\n",
    "                # Generate random indices with replacement\n",
    "                resampled_indices = np.random.choice(num_samples, num_resampled_samples, replace=True)\n",
    "\n",
    "                # Create resampled datasets based on the selected indices\n",
    "                feature_selection = random.sample(range(X_train.shape[1]),n_features)\n",
    "                self.feature_select_trees.append(feature_selection)\n",
    "                X_resampled = X_train[resampled_indices]\n",
    "                X_resampled = X_resampled[:,feature_selection]\n",
    "\n",
    "                y_resampled = y_train[resampled_indices]\n",
    "            else:\n",
    "                num_samples = X_train.shape[0]\n",
    "                num_resampled_samples = int(num_samples*self.fraction_samples)\n",
    "\n",
    "                # Generate random indices with replacement\n",
    "                resampled_indices = np.random.choice(num_samples, num_resampled_samples, replace=False)\n",
    "\n",
    "                # Create resampled datasets based on the selected indices\n",
    "                feature_selection = random.sample(range(X_train.shape[1]),n_features)\n",
    "                self.feature_select_trees.append(feature_selection)\n",
    "                X_resampled = X_train[resampled_indices]\n",
    "                X_resampled = X_resampled[:,feature_selection]\n",
    "\n",
    "                y_resampled = y_train[resampled_indices]\n",
    "\n",
    "            return X_resampled, y_resampled\n",
    "    \n",
    "    def fit(self,X,y):\n",
    "        self.trees = []\n",
    "        for _ in range(self.n_trees):\n",
    "            model = DecisionTreeClassifier(max_depth=self.max_depth,min_samples_split = self.min_samples_split)\n",
    "\n",
    "            X_sample,y_sample = self._bootstrap(X,y,n_features=random.randint(2,X.shape[1]))\n",
    "            model.fit(X_sample,y_sample)\n",
    "            self.trees.append(model)\n",
    "    \n",
    "    def return_indices_of_features_trees(self):\n",
    "         return self.feature_select_trees\n",
    "\n",
    "    def predict(self,X):\n",
    "        results = []\n",
    "        idx_trees = self.return_indices_of_features_trees()\n",
    "\n",
    "        for idx,tree in enumerate(self.trees):\n",
    "            output = tree.predict(X[:,idx_trees[idx]])\n",
    "            results.append(output)\n",
    "        results = np.stack(results)\n",
    "        results = np.sum(results,axis=0)//(len(idx_trees)//2)\n",
    "        return results"
   ]
  },
  {
   "attachments": {},
   "cell_type": "markdown",
   "metadata": {},
   "source": [
    "### Data Processing"
   ]
  },
  {
   "cell_type": "code",
   "execution_count": 7,
   "metadata": {},
   "outputs": [],
   "source": [
    "# Load the classification dataset\n",
    "classification_df = pd.read_csv('WineQT.csv')\n",
    "\n",
    "# Remove the 'Id' column from features\n",
    "classification_df = classification_df.drop(columns=['Id'])\n",
    "\n",
    "# Define the feature columns and label column\n",
    "classification_features = classification_df.drop(columns=['quality'])\n",
    "\n",
    "\"\"\"\n",
    "Standardize the data\n",
    "\"\"\"\n",
    "\n",
    "classification_features = np.array(classification_features)\n",
    "\n",
    "classification_features = (classification_features - np.mean(classification_features,axis=0)) / np.std(classification_features,axis=0)\n",
    "\n",
    "classification_labels = np.array(classification_df['quality'])\n",
    "\n",
    "\"\"\"\n",
    "Binary classification    \n",
    "\"\"\"\n",
    "# for classes 3,4,5\n",
    "classification_labels[classification_labels<=5] = 0\n",
    "\n",
    "# for classes 6,7,8\n",
    "classification_labels[classification_labels>=6] = 1\n",
    "\"\"\"\n",
    "End\n",
    "\"\"\"\n",
    "\n",
    "# Split the classification dataset into train, validation, and test sets\n",
    "classification_train_features, classification_temp_features, classification_train_labels, classification_temp_labels = train_test_split(\n",
    "    classification_features, classification_labels, test_size=0.30, random_state=42)\n",
    "\n",
    "classification_val_features, classification_test_features, classification_val_labels, classification_test_labels  = train_test_split(\n",
    "    classification_temp_features, classification_temp_labels, test_size=0.50, random_state=42)"
   ]
  },
  {
   "cell_type": "code",
   "execution_count": 16,
   "metadata": {},
   "outputs": [],
   "source": [
    "X_train_classification,y_train_classification = classification_train_features,classification_train_labels"
   ]
  },
  {
   "cell_type": "code",
   "execution_count": 24,
   "metadata": {},
   "outputs": [],
   "source": [
    "X_val_classification,y_val_classification = classification_val_features,classification_val_labels"
   ]
  },
  {
   "cell_type": "code",
   "execution_count": 17,
   "metadata": {},
   "outputs": [],
   "source": [
    "X_test_classification,y_test_classification = classification_test_features,classification_test_labels"
   ]
  },
  {
   "cell_type": "code",
   "execution_count": 18,
   "metadata": {},
   "outputs": [
    {
     "data": {
      "text/plain": [
       "(800, 11)"
      ]
     },
     "execution_count": 18,
     "metadata": {},
     "output_type": "execute_result"
    }
   ],
   "source": [
    "X_train_classification.shape"
   ]
  },
  {
   "cell_type": "code",
   "execution_count": 19,
   "metadata": {},
   "outputs": [
    {
     "data": {
      "text/plain": [
       "(800,)"
      ]
     },
     "execution_count": 19,
     "metadata": {},
     "output_type": "execute_result"
    }
   ],
   "source": [
    "y_train_classification.shape"
   ]
  },
  {
   "cell_type": "code",
   "execution_count": 20,
   "metadata": {},
   "outputs": [
    {
     "data": {
      "text/plain": [
       "(172,)"
      ]
     },
     "execution_count": 20,
     "metadata": {},
     "output_type": "execute_result"
    }
   ],
   "source": [
    "y_test_classification.shape"
   ]
  },
  {
   "attachments": {},
   "cell_type": "markdown",
   "metadata": {},
   "source": [
    "### Random forest Classification"
   ]
  },
  {
   "cell_type": "code",
   "execution_count": 21,
   "metadata": {},
   "outputs": [],
   "source": [
    "randomForest = RandomForestCls(n_trees=100,max_depth=15,min_samples_split=2)\n",
    "randomForest.fit(X_train_classification,y_train_classification)"
   ]
  },
  {
   "cell_type": "code",
   "execution_count": 22,
   "metadata": {},
   "outputs": [
    {
     "data": {
      "text/plain": [
       "(172,)"
      ]
     },
     "execution_count": 22,
     "metadata": {},
     "output_type": "execute_result"
    }
   ],
   "source": [
    "\"\"\"\n",
    "Prediction on test set    \n",
    "\"\"\"\n",
    "\n",
    "predictions = randomForest.predict(X_test_classification)\n",
    "predictions.shape"
   ]
  },
  {
   "cell_type": "code",
   "execution_count": 23,
   "metadata": {},
   "outputs": [
    {
     "name": "stdout",
     "output_type": "stream",
     "text": [
      "The accuracy of random forest is : 0.6918604651162791\n"
     ]
    }
   ],
   "source": [
    "\"\"\"\n",
    "Accuracy\n",
    "\"\"\"\n",
    "\n",
    "accuracy = np.mean(predictions==y_test_classification)\n",
    "print(\"The accuracy of random forest is :\",accuracy)"
   ]
  },
  {
   "cell_type": "code",
   "execution_count": 25,
   "metadata": {},
   "outputs": [
    {
     "name": "stdout",
     "output_type": "stream",
     "text": [
      "+---------+------------------+-----------+----------+----------------------+\n",
      "| n_trees | fraction_samples | bootstrap | accuracy |    training_time     |\n",
      "+---------+------------------+-----------+----------+----------------------+\n",
      "|   500   |       0.75       |    True   |  0.836   |  0.8048081398010254  |\n",
      "|    50   |       0.25       |   False   |   0.83   | 0.039446353912353516 |\n",
      "|   500   |       0.5        |   False   |   0.83   |  0.6469936370849609  |\n",
      "|   500   |       0.25       |    True   |  0.825   |  0.3879263401031494  |\n",
      "|    50   |       0.75       |    True   |  0.825   | 0.07694244384765625  |\n",
      "|    50   |       1.0        |    True   |  0.825   | 0.08937740325927734  |\n",
      "|   100   |       0.5        |   False   |  0.825   | 0.13375449180603027  |\n",
      "|   100   |       1.0        |    True   |  0.825   | 0.18979454040527344  |\n",
      "|   500   |       0.25       |   False   |  0.825   |  0.3983430862426758  |\n",
      "|   500   |       1.0        |    True   |  0.825   |  0.9688575267791748  |\n",
      "+---------+------------------+-----------+----------+----------------------+\n"
     ]
    }
   ],
   "source": [
    "from prettytable import PrettyTable\n",
    "import time\n",
    "\n",
    "results = []\n",
    "\n",
    "for num_trees in [20,50,100,500]:\n",
    "        for fraction_samples in [0.15,0.25,0.5, 0.75, 1.0]:\n",
    "            for bootstrap in [True,False]:\n",
    "                    start_time = time.time()\n",
    "\n",
    "                    randomForest = RandomForestCls(n_trees=num_trees,max_depth=15,fraction_samples=fraction_samples,min_samples_split=2,bootstrap=bootstrap)\n",
    "                    randomForest.fit(X_train_classification,y_train_classification)\n",
    "                    y_pred = randomForest.predict(X_val_classification)\n",
    "                    accuracy  = np.mean(y_pred==y_val_classification)\n",
    "\n",
    "                    training_time = time.time() - start_time\n",
    "                    \n",
    "                    results.append({\n",
    "                            \"n_trees\": num_trees,\n",
    "                            \"fraction_samples\": fraction_samples,\n",
    "                            \"bootstrap\": bootstrap,\n",
    "                            \"accuracy\" : round(accuracy,3),\n",
    "                            \"training_time\" : training_time\n",
    "                })\n",
    "\n",
    "\n",
    "# Convert the results list to a DataFrame\n",
    "df = pd.DataFrame(results)\n",
    "\n",
    "# Sort the DataFrame by accuracy in descending order and select the top 10\n",
    "top_10_accuracies = df.sort_values(by=\"accuracy\", ascending=False).head(10)\n",
    "\n",
    "# Create a PrettyTable object\n",
    "table = PrettyTable()\n",
    "\n",
    "# Define your column names\n",
    "column_names = [\"n_trees\", \"fraction_samples\",\"bootstrap\",\"accuracy\",\"training_time\"]\n",
    "\n",
    "# Set the column names\n",
    "table.field_names = column_names\n",
    "\n",
    "# Iterate through the results and add rows\n",
    "for index, row in top_10_accuracies.iterrows():\n",
    "    table.add_row([row[\"n_trees\"], row[\"fraction_samples\"],row[\"bootstrap\"],row[\"accuracy\"],row[\"training_time\"]])\n",
    "\n",
    "# Print the table with borders and headers\n",
    "print(table)"
   ]
  },
  {
   "attachments": {},
   "cell_type": "markdown",
   "metadata": {},
   "source": [
    "#### Note : above table is on validation set"
   ]
  },
  {
   "attachments": {},
   "cell_type": "markdown",
   "metadata": {},
   "source": [
    "#### Best model : n_trees=500, fraction_samples=0.75,bootstrap=True with accuracy = 70.93 % (Highest) on test data"
   ]
  },
  {
   "cell_type": "code",
   "execution_count": 26,
   "metadata": {},
   "outputs": [
    {
     "name": "stdout",
     "output_type": "stream",
     "text": [
      "Accuracy of Best model on test set classification :  0.7093023255813954\n"
     ]
    }
   ],
   "source": [
    "# testing best model\n",
    "randomForest = RandomForestCls(n_trees=500,max_depth=15,fraction_samples=0.75,min_samples_split=2,bootstrap=True)\n",
    "randomForest.fit(X_train_classification,y_train_classification)\n",
    "y_pred = randomForest.predict(X_test_classification)\n",
    "accuracy  = np.mean(y_pred==y_test_classification)\n",
    "\n",
    "print(f\"Accuracy of Best model on test set classification : \",accuracy)"
   ]
  },
  {
   "attachments": {},
   "cell_type": "markdown",
   "metadata": {},
   "source": [
    "## Regression"
   ]
  },
  {
   "cell_type": "code",
   "execution_count": 27,
   "metadata": {},
   "outputs": [],
   "source": [
    "class RandomForestReg:\n",
    "    def __init__(self,n_trees = 100,max_depth = 10,min_samples_split = 2,fraction_samples=1,bootstrap=False):\n",
    "        self.n_trees = n_trees\n",
    "        self.max_depth = max_depth\n",
    "        self.bootstrapping = bootstrap\n",
    "        self.min_samples_split = min_samples_split\n",
    "        self.feature_select_trees = []\n",
    "        self.fraction_samples = fraction_samples\n",
    "\n",
    "        self.trees = []\n",
    "\n",
    "    def _bootstrap(self,X_train,y_train,n_features):\n",
    "            \n",
    "            if self.bootstrapping:\n",
    "                num_samples = X_train.shape[0]\n",
    "                num_resampled_samples = int(num_samples*self.fraction_samples)\n",
    "\n",
    "                # Generate random indices with replacement\n",
    "                resampled_indices = np.random.choice(num_samples, num_resampled_samples, replace=True)\n",
    "\n",
    "                # Create resampled datasets based on the selected indices\n",
    "                feature_selection = random.sample(range(X_train.shape[1]),n_features)\n",
    "                self.feature_select_trees.append(feature_selection)\n",
    "                X_resampled = X_train[resampled_indices]\n",
    "                X_resampled = X_resampled[:,feature_selection]\n",
    "\n",
    "                y_resampled = y_train[resampled_indices]\n",
    "            else:\n",
    "                num_samples = X_train.shape[0]\n",
    "                num_resampled_samples = int(num_samples*self.fraction_samples)\n",
    "\n",
    "                # Generate random indices with replacement\n",
    "                resampled_indices = np.random.choice(num_samples, num_resampled_samples, replace=False)\n",
    "\n",
    "                # Create resampled datasets based on the selected indices\n",
    "                feature_selection = random.sample(range(X_train.shape[1]),n_features)\n",
    "                self.feature_select_trees.append(feature_selection)\n",
    "                X_resampled = X_train[resampled_indices]\n",
    "                X_resampled = X_resampled[:,feature_selection]\n",
    "\n",
    "                y_resampled = y_train[resampled_indices]\n",
    "\n",
    "            return X_resampled, y_resampled\n",
    "    \n",
    "    def fit(self,X,y):\n",
    "        self.trees = []\n",
    "        for _ in range(self.n_trees):\n",
    "            model = DecisionTreeRegressor(max_depth=self.max_depth,min_samples_split = self.min_samples_split)\n",
    "\n",
    "            X_sample,y_sample = self._bootstrap(X,y,n_features=random.randint(2,X.shape[1]))\n",
    "            model.fit(X_sample,y_sample)\n",
    "            self.trees.append(model)\n",
    "    \n",
    "    def return_indices_of_features_trees(self):\n",
    "         return self.feature_select_trees\n",
    "\n",
    "    def predict(self,X):\n",
    "        results = []\n",
    "        idx_trees = self.return_indices_of_features_trees()\n",
    "\n",
    "        for idx,tree in enumerate(self.trees):\n",
    "            output = tree.predict(X[:,idx_trees[idx]])\n",
    "            results.append(output)\n",
    "        results = np.stack(results)\n",
    "        results = np.mean(results,axis=0)\n",
    "        return results"
   ]
  },
  {
   "attachments": {},
   "cell_type": "markdown",
   "metadata": {},
   "source": [
    "### Data Processing"
   ]
  },
  {
   "cell_type": "code",
   "execution_count": 28,
   "metadata": {},
   "outputs": [],
   "source": [
    "# Load the regression dataset\n",
    "regression_df = pd.read_csv('HousingData.csv')\n",
    "\n",
    "# Define the feature columns and label column for regression\n",
    "regression_features = regression_df.drop(columns=['MEDV'])\n",
    "regression_labels = regression_df['MEDV']\n",
    "\n",
    "\"\"\"\n",
    "Standardize the data\n",
    "\"\"\"\n",
    "\n",
    "imputer = SimpleImputer(strategy='median')\n",
    "imputer.fit(regression_features)\n",
    "data_imputed = imputer.transform(regression_features)\n",
    "data_imputed = pd.DataFrame(data_imputed, columns=regression_features.columns)\n",
    "regression_features = data_imputed\n",
    "\n",
    "regression_features = np.array(regression_features)\n",
    "regression_features = (regression_features - np.mean(regression_features,axis=0)) / np.std(regression_features,axis=0)\n",
    "\n",
    "regression_labels = np.array(regression_labels)\n",
    "\n",
    "# Split the regression dataset into train, validation, and test sets\n",
    "regression_train_features, regression_temp_features, regression_train_labels, regression_temp_labels = train_test_split(\n",
    "    regression_features, regression_labels, test_size=0.3, random_state=42)\n",
    "\n",
    "regression_val_features, regression_test_features, regression_val_labels, regression_test_labels = train_test_split(\n",
    "    regression_temp_features, regression_temp_labels, test_size=0.5, random_state=42)"
   ]
  },
  {
   "cell_type": "code",
   "execution_count": 34,
   "metadata": {},
   "outputs": [],
   "source": [
    "X_train_regression,y_train_regression = regression_train_features,regression_train_labels"
   ]
  },
  {
   "cell_type": "code",
   "execution_count": 35,
   "metadata": {},
   "outputs": [],
   "source": [
    "X_val_regression,y_val_regression = regression_val_features,regression_val_labels"
   ]
  },
  {
   "cell_type": "code",
   "execution_count": 36,
   "metadata": {},
   "outputs": [],
   "source": [
    "X_test_regression,y_test_regression = regression_test_features,regression_test_labels"
   ]
  },
  {
   "cell_type": "code",
   "execution_count": 37,
   "metadata": {},
   "outputs": [
    {
     "data": {
      "text/plain": [
       "(354, 13)"
      ]
     },
     "execution_count": 37,
     "metadata": {},
     "output_type": "execute_result"
    }
   ],
   "source": [
    "X_train_regression.shape"
   ]
  },
  {
   "cell_type": "code",
   "execution_count": 38,
   "metadata": {},
   "outputs": [
    {
     "data": {
      "text/plain": [
       "(76, 13)"
      ]
     },
     "execution_count": 38,
     "metadata": {},
     "output_type": "execute_result"
    }
   ],
   "source": [
    "X_test_regression.shape"
   ]
  },
  {
   "cell_type": "code",
   "execution_count": 39,
   "metadata": {},
   "outputs": [
    {
     "data": {
      "text/plain": [
       "(76, 13)"
      ]
     },
     "execution_count": 39,
     "metadata": {},
     "output_type": "execute_result"
    }
   ],
   "source": [
    "X_val_regression.shape"
   ]
  },
  {
   "attachments": {},
   "cell_type": "markdown",
   "metadata": {},
   "source": [
    "### Random Forest Regressor"
   ]
  },
  {
   "cell_type": "code",
   "execution_count": 40,
   "metadata": {},
   "outputs": [
    {
     "name": "stdout",
     "output_type": "stream",
     "text": [
      "+---------+------------------+-----------+----------+----------------------+\n",
      "| n_trees | fraction_samples | bootstrap | mse_loss |    training_time     |\n",
      "+---------+------------------+-----------+----------+----------------------+\n",
      "|    20   |       1.0        |   False   |  7.453   | 0.017792463302612305 |\n",
      "|    20   |       0.75       |    True   |  7.506   | 0.012581825256347656 |\n",
      "|    20   |       0.5        |    True   |  7.885   | 0.011458396911621094 |\n",
      "|    50   |       0.75       |    True   |  7.896   | 0.036142587661743164 |\n",
      "|   100   |       1.0        |    True   |  8.007   | 0.07734966278076172  |\n",
      "|   100   |       0.5        |   False   |  8.223   | 0.05565929412841797  |\n",
      "|   500   |       1.0        |    True   |  8.235   | 0.35508036613464355  |\n",
      "|    20   |       1.0        |    True   |   8.29   | 0.014485359191894531 |\n",
      "|   500   |       0.5        |   False   |  8.346   |  0.2821822166442871  |\n",
      "|    50   |       0.75       |   False   |  8.505   | 0.034548044204711914 |\n",
      "+---------+------------------+-----------+----------+----------------------+\n"
     ]
    }
   ],
   "source": [
    "from prettytable import PrettyTable\n",
    "import time\n",
    "\n",
    "results = []\n",
    "\n",
    "for num_trees in [20,50,100,500]:\n",
    "        for fraction_samples in [0.15,0.25,0.5, 0.75, 1.0]:\n",
    "            for bootstrap in [True,False]:\n",
    "                    start_time = time.time()\n",
    "\n",
    "                    randomForest = RandomForestReg(n_trees=num_trees,max_depth=5,fraction_samples=fraction_samples,min_samples_split=2,bootstrap=bootstrap)\n",
    "                    randomForest.fit(X_train_regression,y_train_regression)\n",
    "                    y_pred = randomForest.predict(X_val_regression)\n",
    "                    mse_loss = np.mean((y_val_regression-y_pred)**2)\n",
    "\n",
    "                    training_time = time.time() - start_time\n",
    "                    \n",
    "                    results.append({\n",
    "                            \"n_trees\": num_trees,\n",
    "                            \"fraction_samples\": fraction_samples,\n",
    "                            \"bootstrap\": bootstrap,\n",
    "                            \"mse_loss\" : round(mse_loss,3),\n",
    "                            \"training_time\" : training_time\n",
    "                })\n",
    "\n",
    "\n",
    "# Convert the results list to a DataFrame\n",
    "df = pd.DataFrame(results)\n",
    "\n",
    "# Sort the DataFrame by accuracy in descending order and select the top 10\n",
    "top_10_accuracies = df.sort_values(by=\"mse_loss\", ascending=True).head(10)\n",
    "\n",
    "# Create a PrettyTable object\n",
    "table = PrettyTable()\n",
    "\n",
    "# Define your column names\n",
    "column_names = [\"n_trees\", \"fraction_samples\",\"bootstrap\",\"mse_loss\",\"training_time\"]\n",
    "\n",
    "# Set the column names\n",
    "table.field_names = column_names\n",
    "\n",
    "# Iterate through the results and add rows\n",
    "for index, row in top_10_accuracies.iterrows():\n",
    "    table.add_row([row[\"n_trees\"], row[\"fraction_samples\"],row[\"bootstrap\"],row[\"mse_loss\"],row[\"training_time\"]])\n",
    "\n",
    "# Print the table with borders and headers\n",
    "print(table)"
   ]
  },
  {
   "attachments": {},
   "cell_type": "markdown",
   "metadata": {},
   "source": [
    "#### Note the above table is on the validation set"
   ]
  },
  {
   "attachments": {},
   "cell_type": "markdown",
   "metadata": {},
   "source": [
    "#### Best model : n_trees=20, fraction_samples=1,bootstrap=False with mse_loss = 7.453 (Lowest)"
   ]
  },
  {
   "cell_type": "code",
   "execution_count": 41,
   "metadata": {},
   "outputs": [
    {
     "name": "stdout",
     "output_type": "stream",
     "text": [
      "mse_loss for best model regression :  18.58659353378433\n"
     ]
    }
   ],
   "source": [
    "## Testing on test set\n",
    "\n",
    "randomForest = RandomForestReg(n_trees=20,max_depth=5,fraction_samples=1,min_samples_split=2,bootstrap=False)\n",
    "randomForest.fit(X_train_regression,y_train_regression)\n",
    "y_pred = randomForest.predict(X_test_regression)\n",
    "mse_loss = np.mean((y_test_regression-y_pred)**2)\n",
    "\n",
    "print(f\"mse_loss for best model regression : \",mse_loss)"
   ]
  },
  {
   "attachments": {},
   "cell_type": "markdown",
   "metadata": {},
   "source": [
    "# Gradient Boosting Decision Trees"
   ]
  },
  {
   "attachments": {},
   "cell_type": "markdown",
   "metadata": {},
   "source": [
    "## Regression"
   ]
  },
  {
   "attachments": {},
   "cell_type": "markdown",
   "metadata": {},
   "source": [
    "### Data Processing"
   ]
  },
  {
   "attachments": {},
   "cell_type": "markdown",
   "metadata": {},
   "source": [
    "### Gradient Boosting Regressor"
   ]
  },
  {
   "cell_type": "code",
   "execution_count": 42,
   "metadata": {},
   "outputs": [],
   "source": [
    "class GradientBoostingReg:\n",
    "    def __init__(self, n_estimators=100, learning_rate=0.1, max_depth=3):\n",
    "        self.n_estimators = n_estimators\n",
    "        self.learning_rate = learning_rate\n",
    "        self.max_depth = max_depth\n",
    "        self.trees = []\n",
    "\n",
    "    def fit(self, X, y):\n",
    "        # Initialize the model with the mean of the target variable\n",
    "        self.base_prediction = np.mean(y)\n",
    "        # Make the first prediction the mean of the target variable\n",
    "        prediction = np.full_like(y, self.base_prediction)\n",
    "\n",
    "        for _ in range(self.n_estimators):\n",
    "            # Compute the residuals (negative gradient)\n",
    "            residuals = y - prediction\n",
    "            # Fit a decision tree to the residuals\n",
    "            tree = DecisionTreeRegressor(max_depth=self.max_depth)\n",
    "            tree.fit(X, residuals)\n",
    "            # Make predictions with the current tree\n",
    "            tree_prediction = tree.predict(X)\n",
    "            # Update the overall prediction with a scaled version of the tree's prediction\n",
    "            prediction += self.learning_rate * tree_prediction\n",
    "            # Store the tree in the list of trees\n",
    "            self.trees.append(tree)\n",
    "\n",
    "    def predict(self, X):\n",
    "        # Make predictions using all the trees and scale by the learning rate\n",
    "        predictions = np.array([self.learning_rate * tree.predict(X) for tree in self.trees]).sum(axis=0)\n",
    "        # Add the initial prediction (mean of the target variable)\n",
    "        predictions += self.base_prediction\n",
    "        return predictions"
   ]
  },
  {
   "cell_type": "code",
   "execution_count": 44,
   "metadata": {},
   "outputs": [
    {
     "name": "stdout",
     "output_type": "stream",
     "text": [
      "+---------+---------------+----------+----------------------+\n",
      "| n_trees | learning_rate | mse_loss |    training_time     |\n",
      "+---------+---------------+----------+----------------------+\n",
      "|  500.0  |      0.2      |  5.617   |  0.6095004081726074  |\n",
      "|  500.0  |      0.01     |  5.623   |  0.6185503005981445  |\n",
      "|   50.0  |      0.2      |  5.814   | 0.060747385025024414 |\n",
      "|   20.0  |      0.2      |  5.913   | 0.02563023567199707  |\n",
      "|  100.0  |      0.2      |  6.267   | 0.12228107452392578  |\n",
      "|  100.0  |      0.01     |  15.898  | 0.12500572204589844  |\n",
      "|  500.0  |     0.001     |  30.297  |  0.6060919761657715  |\n",
      "|   50.0  |      0.01     |  30.592  | 0.062424659729003906 |\n",
      "|   20.0  |      0.01     |  49.928  |  0.0297544002532959  |\n",
      "|  100.0  |     0.001     |  59.571  | 0.12344217300415039  |\n",
      "+---------+---------------+----------+----------------------+\n"
     ]
    }
   ],
   "source": [
    "from prettytable import PrettyTable\n",
    "import time\n",
    "\n",
    "results = []\n",
    "\n",
    "for num_trees in [20,50,100,500]:\n",
    "        for learning_rate in [0.01,0.001,0.2]:\n",
    "                    start_time = time.time()\n",
    "\n",
    "                    gradboostModel = GradientBoostingReg(n_estimators=num_trees,learning_rate=learning_rate,max_depth=5)\n",
    "                    gradboostModel.fit(X_train_regression,y_train_regression)\n",
    "                    y_pred = gradboostModel.predict(X_val_regression)\n",
    "                    mse_loss = np.mean((y_val_regression-y_pred)**2)\n",
    "\n",
    "                    training_time = time.time() - start_time\n",
    "                    \n",
    "                    results.append({\n",
    "                            \"n_trees\": num_trees,\n",
    "                            \"learning_rate\":learning_rate,\n",
    "                            \"mse_loss\" : round(mse_loss,3),\n",
    "                            \"training_time\" : training_time\n",
    "                })\n",
    "\n",
    "\n",
    "# Convert the results list to a DataFrame\n",
    "df = pd.DataFrame(results)\n",
    "\n",
    "# Sort the DataFrame by accuracy in descending order and select the top 10\n",
    "top_10_accuracies = df.sort_values(by=\"mse_loss\", ascending=True).head(10)\n",
    "\n",
    "# Create a PrettyTable object\n",
    "table = PrettyTable()\n",
    "\n",
    "# Define your column names\n",
    "column_names = [\"n_trees\",\"learning_rate\",\"mse_loss\",\"training_time\"]\n",
    "\n",
    "# Set the column names\n",
    "table.field_names = column_names\n",
    "\n",
    "# Iterate through the results and add rows\n",
    "for index, row in top_10_accuracies.iterrows():\n",
    "    table.add_row([row[\"n_trees\"],row[\"learning_rate\"],row[\"mse_loss\"],row[\"training_time\"]])\n",
    "\n",
    "# Print the table with borders and headers\n",
    "print(table)"
   ]
  },
  {
   "cell_type": "code",
   "execution_count": 10,
   "metadata": {},
   "outputs": [
    {
     "name": "stdout",
     "output_type": "stream",
     "text": [
      "Sorted n_trees: [20.0, 20.0, 50.0, 50.0, 100.0, 100.0, 100.0, 500.0, 500.0, 500.0]\n",
      "Corresponding learning_rate: [0.2, 0.01, 0.2, 0.01, 0.2, 0.01, 0.001, 0.2, 0.01, 0.001]\n",
      "Corresponding mse_loss: [5.913, 49.928, 5.814, 30.592, 6.267, 15.898, 59.571, 5.617, 5.623, 30.297]\n",
      "Corresponding training_time: [0.02563023567199707, 0.0297544002532959, 0.060747385025024414, 0.062424659729003906, 0.12228107452392578, 0.12500572204589844, 0.12344217300415039, 0.6095004081726074, 0.6185503005981445, 0.6060919761657715]\n"
     ]
    }
   ],
   "source": [
    "# Given data\n",
    "n_trees_values = [500.0, 500.0, 50.0, 20.0, 100.0, 100.0, 500.0, 50.0, 20.0, 100.0]\n",
    "learning_rate_values = [0.2, 0.01, 0.2, 0.2, 0.2, 0.01, 0.001, 0.01, 0.01, 0.001]\n",
    "mse_loss_values = [5.617, 5.623, 5.814, 5.913, 6.267, 15.898, 30.297, 30.592, 49.928, 59.571]\n",
    "training_time_values = [0.6095004081726074, 0.6185503005981445, 0.060747385025024414, 0.02563023567199707, 0.12228107452392578, 0.12500572204589844, 0.6060919761657715, 0.062424659729003906, 0.0297544002532959, 0.12344217300415039]\n",
    "\n",
    "# Sorting based on n_trees\n",
    "sorted_indices = sorted(range(len(n_trees_values)), key=lambda k: n_trees_values[k])\n",
    "sorted_n_trees = [n_trees_values[i] for i in sorted_indices]\n",
    "sorted_learning_rate = [learning_rate_values[i] for i in sorted_indices]\n",
    "sorted_mse_loss = [mse_loss_values[i] for i in sorted_indices]\n",
    "sorted_training_time = [training_time_values[i] for i in sorted_indices]\n",
    "\n",
    "# Display the sorted lists\n",
    "print(\"Sorted n_trees:\", sorted_n_trees)\n",
    "print(\"Corresponding learning_rate:\", sorted_learning_rate)\n",
    "print(\"Corresponding mse_loss:\", sorted_mse_loss)\n",
    "print(\"Corresponding training_time:\", sorted_training_time)"
   ]
  },
  {
   "cell_type": "code",
   "execution_count": 12,
   "metadata": {},
   "outputs": [
    {
     "data": {
      "image/png": "[encoded data removed]",
      "text/plain": [
       "<Figure size 432x288 with 1 Axes>"
      ]
     },
     "metadata": {
      "needs_background": "light"
     },
     "output_type": "display_data"
    }
   ],
   "source": [
    "import matplotlib.pyplot as plt\n",
    "\n",
    "# Example data\n",
    "x_values = sorted_n_trees\n",
    "y_values = sorted_mse_loss\n",
    "\n",
    "# Plotting the data\n",
    "plt.plot(x_values, y_values, label='Your Label')\n",
    "\n",
    "# Adding labels and title\n",
    "plt.xlabel('n_estimators')\n",
    "plt.ylabel('mse_loss')\n",
    "plt.title('mse_loss vs n_estimators')\n",
    "\n",
    "# Adding legend\n",
    "plt.legend()\n",
    "\n",
    "# Display the plot\n",
    "plt.show()"
   ]
  },
  {
   "cell_type": "code",
   "execution_count": 13,
   "metadata": {},
   "outputs": [
    {
     "data": {
      "image/png": "[encoded data removed]",
      "text/plain": [
       "<Figure size 432x288 with 1 Axes>"
      ]
     },
     "metadata": {
      "needs_background": "light"
     },
     "output_type": "display_data"
    }
   ],
   "source": [
    "import matplotlib.pyplot as plt\n",
    "\n",
    "# Example data\n",
    "x_values = sorted_n_trees\n",
    "y_values = sorted_training_time\n",
    "\n",
    "# Plotting the data\n",
    "plt.plot(x_values, y_values, label='Your Label')\n",
    "\n",
    "# Adding labels and title\n",
    "plt.xlabel('n_estimators')\n",
    "plt.ylabel('training_time')\n",
    "plt.title('training_time vs n_estimators')\n",
    "\n",
    "# Adding legend\n",
    "plt.legend()\n",
    "\n",
    "# Display the plot\n",
    "plt.show()"
   ]
  },
  {
   "attachments": {},
   "cell_type": "markdown",
   "metadata": {},
   "source": [
    "#### Best model : n_trees=500 , learning_rate=0.2 with mse_loss = 5.617 (Lowest)"
   ]
  },
  {
   "cell_type": "code",
   "execution_count": 45,
   "metadata": {},
   "outputs": [
    {
     "name": "stdout",
     "output_type": "stream",
     "text": [
      "mse_loss on best model regression is : 11.105272897885596\n"
     ]
    }
   ],
   "source": [
    "## Testing on best model\n",
    "\n",
    "gradboostModel = GradientBoostingReg(n_estimators=500,learning_rate=0.2,max_depth=5)\n",
    "gradboostModel.fit(X_train_regression,y_train_regression)\n",
    "y_pred = gradboostModel.predict(X_test_regression)\n",
    "mse_loss = np.mean((y_test_regression-y_pred)**2)\n",
    "\n",
    "print(f\"mse_loss on best model regression is :\",mse_loss)"
   ]
  },
  {
   "attachments": {},
   "cell_type": "markdown",
   "metadata": {},
   "source": [
    "<br>"
   ]
  },
  {
   "attachments": {},
   "cell_type": "markdown",
   "metadata": {},
   "source": [
    "## Classification"
   ]
  },
  {
   "attachments": {},
   "cell_type": "markdown",
   "metadata": {},
   "source": [
    "### Data Processing"
   ]
  },
  {
   "attachments": {},
   "cell_type": "markdown",
   "metadata": {},
   "source": [
    "### Gradient Boosting Classifier"
   ]
  },
  {
   "cell_type": "code",
   "execution_count": 60,
   "metadata": {},
   "outputs": [],
   "source": [
    "\"\"\"\n",
    "Taken help of ChatGPT for this class\n",
    "\"\"\"\n",
    "\n",
    "class GradientBoostingCls:\n",
    "    def __init__(self, n_estimators=100, learning_rate=0.1, max_depth=3):\n",
    "        self.n_estimators = n_estimators\n",
    "        self.learning_rate = learning_rate\n",
    "        self.max_depth = max_depth\n",
    "        self.trees = []\n",
    "\n",
    "    def fit(self, X, y):\n",
    "        # Make the first prediction the log-odds of the class probabilities\n",
    "        self.base_prediction = np.log(np.sum(y) / (len(y) - np.sum(y)))\n",
    "        prediction = np.full_like(y, self.base_prediction)\n",
    "        prediction = prediction.astype(np.float64)\n",
    "\n",
    "        for _ in range(self.n_estimators):\n",
    "            # Compute the negative gradient (log-odds of class probabilities)\n",
    "            neg_gradient = y - 1 / (1 + np.exp(-prediction))\n",
    "            # Fit a decision tree to the negative gradient\n",
    "            tree = DecisionTreeRegressor(max_depth=self.max_depth)\n",
    "            tree.fit(X, neg_gradient)\n",
    "            # Make predictions with the current tree\n",
    "            tree_prediction = tree.predict(X)\n",
    "            # Update the overall prediction with a scaled version of the tree's prediction\n",
    "            prediction += self.learning_rate * tree_prediction\n",
    "            # Store the tree in the list of trees\n",
    "            self.trees.append(tree)\n",
    "\n",
    "    def predict(self, X):\n",
    "        # Make predictions using all the trees and scale by the learning rate\n",
    "        predictions = np.array([self.learning_rate * tree.predict(X) for tree in self.trees]).sum(axis=0)\n",
    "        # Add the initial prediction (log-odds of class probabilities)\n",
    "        predictions += self.base_prediction\n",
    "        # Convert log-odds to class probabilities\n",
    "        probabilities = 1 / (1 + np.exp(-predictions))\n",
    "        # Threshold probabilities to get class predictions (binary classification)\n",
    "        class_predictions = (probabilities >= 0.5).astype(int)\n",
    "        return class_predictions.astype(np.float64)\n"
   ]
  },
  {
   "cell_type": "code",
   "execution_count": 47,
   "metadata": {},
   "outputs": [
    {
     "name": "stdout",
     "output_type": "stream",
     "text": [
      "+---------+---------------+----------+----------------------+\n",
      "| n_trees | learning_rate | accuracy |    training_time     |\n",
      "+---------+---------------+----------+----------------------+\n",
      "|   50.0  |      0.01     |  0.708   | 0.15266728401184082  |\n",
      "|  500.0  |      0.01     |  0.702   |  1.5437631607055664  |\n",
      "|  100.0  |      0.2      |  0.702   |  0.3083806037902832  |\n",
      "|   20.0  |      0.2      |  0.696   | 0.059969425201416016 |\n",
      "|  500.0  |     0.001     |  0.696   |  1.6094882488250732  |\n",
      "|  500.0  |      0.2      |   0.69   |  1.5801401138305664  |\n",
      "|  100.0  |      0.01     |   0.69   |  0.311734676361084   |\n",
      "|   50.0  |      0.2      |   0.69   | 0.15087676048278809  |\n",
      "|   20.0  |      0.01     |   0.62   | 0.06941652297973633  |\n",
      "|   20.0  |     0.001     |   0.62   | 0.07058286666870117  |\n",
      "+---------+---------------+----------+----------------------+\n"
     ]
    }
   ],
   "source": [
    "from prettytable import PrettyTable\n",
    "import time\n",
    "\n",
    "results = []\n",
    "\n",
    "for num_trees in [20,50,100,500]:\n",
    "        for learning_rate in [0.01,0.001,0.2]:\n",
    "                    start_time = time.time()\n",
    "\n",
    "                    gradboostModel = GradientBoostingCls(n_estimators=num_trees,learning_rate=learning_rate,max_depth=15)\n",
    "                    gradboostModel.fit(X_train_classification,y_train_classification)\n",
    "                    y_pred = gradboostModel.predict(X_val_classification)\n",
    "                    accuracy = np.mean(y_pred==y_val_classification)\n",
    "\n",
    "                    training_time = time.time() - start_time\n",
    "                    \n",
    "                    results.append({\n",
    "                            \"n_trees\": num_trees,\n",
    "                            \"learning_rate\" : learning_rate,\n",
    "                            \"accuracy\" : round(accuracy,3),\n",
    "                            \"training_time\" : training_time\n",
    "                })\n",
    "\n",
    "\n",
    "# Convert the results list to a DataFrame\n",
    "df = pd.DataFrame(results)\n",
    "\n",
    "# Sort the DataFrame by accuracy in descending order and select the top 10\n",
    "top_10_accuracies = df.sort_values(by=\"accuracy\", ascending=False).head(10)\n",
    "\n",
    "# Create a PrettyTable object\n",
    "table = PrettyTable()\n",
    "\n",
    "# Define your column names\n",
    "column_names = [\"n_trees\",\"learning_rate\",\"accuracy\",\"training_time\"]\n",
    "\n",
    "# Set the column names\n",
    "table.field_names = column_names\n",
    "\n",
    "# Iterate through the results and add rows\n",
    "for index, row in top_10_accuracies.iterrows():\n",
    "    table.add_row([row[\"n_trees\"],row[\"learning_rate\"],row[\"accuracy\"],row[\"training_time\"]])\n",
    "\n",
    "# Print the table with borders and headers\n",
    "print(table)"
   ]
  },
  {
   "cell_type": "code",
   "execution_count": 14,
   "metadata": {},
   "outputs": [
    {
     "name": "stdout",
     "output_type": "stream",
     "text": [
      "Sorted n_trees: [20.0, 20.0, 20.0, 50.0, 50.0, 100.0, 100.0, 500.0, 500.0, 500.0]\n",
      "Corresponding learning_rate: [0.2, 0.01, 0.001, 0.01, 0.2, 0.2, 0.01, 0.01, 0.001, 0.2]\n",
      "Corresponding accuracy: [0.696, 0.62, 0.62, 0.708, 0.69, 0.702, 0.69, 0.702, 0.696, 0.69]\n",
      "Corresponding training_time: [0.059969425201416016, 0.06941652297973633, 0.07058286666870117, 0.15266728401184082, 0.15087676048278809, 0.3083806037902832, 0.311734676361084, 1.5437631607055664, 1.6094882488250732, 1.5801401138305664]\n"
     ]
    }
   ],
   "source": [
    "# Given data\n",
    "n_trees_values = [50.0, 500.0, 100.0, 20.0, 500.0, 500.0, 100.0, 50.0, 20.0, 20.0]\n",
    "learning_rate_values = [0.01, 0.01, 0.2, 0.2, 0.001, 0.2, 0.01, 0.2, 0.01, 0.001]\n",
    "accuracy_values = [0.708, 0.702, 0.702, 0.696, 0.696, 0.69, 0.69, 0.69, 0.62, 0.62]\n",
    "training_time_values = [0.15266728401184082, 1.5437631607055664, 0.3083806037902832, 0.059969425201416016, 1.6094882488250732, 1.5801401138305664, 0.311734676361084, 0.15087676048278809, 0.06941652297973633, 0.07058286666870117]\n",
    "\n",
    "# Sorting based on n_trees\n",
    "sorted_indices = sorted(range(len(n_trees_values)), key=lambda k: n_trees_values[k])\n",
    "sorted_n_trees = [n_trees_values[i] for i in sorted_indices]\n",
    "sorted_learning_rate = [learning_rate_values[i] for i in sorted_indices]\n",
    "sorted_accuracy = [accuracy_values[i] for i in sorted_indices]\n",
    "sorted_training_time = [training_time_values[i] for i in sorted_indices]\n",
    "\n",
    "# Display the sorted lists\n",
    "print(\"Sorted n_trees:\", sorted_n_trees)\n",
    "print(\"Corresponding learning_rate:\", sorted_learning_rate)\n",
    "print(\"Corresponding accuracy:\", sorted_accuracy)\n",
    "print(\"Corresponding training_time:\", sorted_training_time)"
   ]
  },
  {
   "cell_type": "code",
   "execution_count": 15,
   "metadata": {},
   "outputs": [
    {
     "data": {
      "image/png": "[encoded data removed]",
      "text/plain": [
       "<Figure size 432x288 with 1 Axes>"
      ]
     },
     "metadata": {
      "needs_background": "light"
     },
     "output_type": "display_data"
    }
   ],
   "source": [
    "import matplotlib.pyplot as plt\n",
    "\n",
    "# Example data\n",
    "x_values = sorted_n_trees\n",
    "y_values = sorted_accuracy\n",
    "\n",
    "# Plotting the data\n",
    "plt.plot(x_values, y_values, label='Your Label')\n",
    "\n",
    "# Adding labels and title\n",
    "plt.xlabel('X-axis Label')\n",
    "plt.ylabel('Y-axis Label')\n",
    "plt.title('Your Plot Title')\n",
    "\n",
    "# Adding legend\n",
    "plt.legend()\n",
    "\n",
    "# Display the plot\n",
    "plt.show()"
   ]
  },
  {
   "cell_type": "code",
   "execution_count": 16,
   "metadata": {},
   "outputs": [
    {
     "data": {
      "image/png": "[encoded data removed]",
      "text/plain": [
       "<Figure size 432x288 with 1 Axes>"
      ]
     },
     "metadata": {
      "needs_background": "light"
     },
     "output_type": "display_data"
    }
   ],
   "source": [
    "import matplotlib.pyplot as plt\n",
    "\n",
    "# Example data\n",
    "x_values = sorted_n_trees\n",
    "y_values = sorted_training_time\n",
    "\n",
    "# Plotting the data\n",
    "plt.plot(x_values, y_values, label='Your Label')\n",
    "\n",
    "# Adding labels and title\n",
    "plt.xlabel('X-axis Label')\n",
    "plt.ylabel('Y-axis Label')\n",
    "plt.title('Your Plot Title')\n",
    "\n",
    "# Adding legend\n",
    "plt.legend()\n",
    "\n",
    "# Display the plot\n",
    "plt.show()"
   ]
  },
  {
   "attachments": {},
   "cell_type": "markdown",
   "metadata": {},
   "source": [
    "#### Best model : n_trees=50 , learning_rate = 0.01 with accuracy = 70.8 % (Highest)"
   ]
  },
  {
   "cell_type": "code",
   "execution_count": 48,
   "metadata": {},
   "outputs": [
    {
     "name": "stdout",
     "output_type": "stream",
     "text": [
      "Accuracy of best model on test data classification :  0.6744186046511628\n"
     ]
    }
   ],
   "source": [
    "## Test best model on test data\n",
    "\n",
    "gradboostModel = GradientBoostingCls(n_estimators=num_trees,learning_rate=learning_rate,max_depth=15)\n",
    "gradboostModel.fit(X_train_classification,y_train_classification)\n",
    "y_pred = gradboostModel.predict(X_test_classification)\n",
    "accuracy = np.mean(y_pred==y_test_classification)\n",
    "\n",
    "print(f\"Accuracy of best model on test data classification : \",accuracy)"
   ]
  },
  {
   "attachments": {},
   "cell_type": "markdown",
   "metadata": {},
   "source": [
    "### Data Processing"
   ]
  },
  {
   "attachments": {},
   "cell_type": "markdown",
   "metadata": {},
   "source": [
    "# ADABOOST DECISION TREES"
   ]
  },
  {
   "attachments": {},
   "cell_type": "markdown",
   "metadata": {},
   "source": [
    "## Adaboost Classification Trees"
   ]
  },
  {
   "cell_type": "code",
   "execution_count": 49,
   "metadata": {},
   "outputs": [],
   "source": [
    "from sklearn.tree import DecisionTreeClassifier \n",
    "\n",
    "class AdaBoostCls:\n",
    "    def __init__(self,num_estimators=10,max_depth = 2):\n",
    "        self.num_estimators = num_estimators\n",
    "        self.max_depth = max_depth\n",
    "    \n",
    "    def resample_from_distribution(self,distribution,dataset):\n",
    "        X,y = dataset\n",
    "        indices = np.linspace(0,X.shape[0]-1,X.shape[0]).astype(int)\n",
    "        resampled_indices = np.random.choice(indices,len(X),p=distribution)\n",
    "        return X[resampled_indices],y[resampled_indices]\n",
    "\n",
    "    def fit(self,X,y):\n",
    "\n",
    "        self.trees = []\n",
    "        distribution = np.ones(y.shape[0]) / y.shape[0]\n",
    "        # initialize weight distribution\n",
    "\n",
    "        X_new,y_new = X,y\n",
    "\n",
    "        # make it like that for better thresholding\n",
    "        y_new[y_new==0]=-1\n",
    "\n",
    "        for _ in range(self.num_estimators):\n",
    "            \n",
    "            # classifier\n",
    "            model = DecisionTreeClassifier(max_depth=self.max_depth)\n",
    "            X_new,y_new= self.resample_from_distribution(distribution,(X_new,y_new))\n",
    "            model.fit(X_new,y_new)\n",
    "\n",
    "            # test and update weights\n",
    "            y_pred = model.predict(X_new)\n",
    "            bool_arr = (y_pred==y_new)\n",
    "\n",
    "            # print(bool_arr[:20])\n",
    "            # print(np.sum(distribution))\n",
    "\n",
    "            # error_function\n",
    "            if np.sum(1-bool_arr)==0:\n",
    "                break\n",
    "            error_function = np.sum(distribution*(1-bool_arr))\n",
    "            e_m = error_function\n",
    "            alpha_m = np.log((1-e_m)/e_m)\n",
    "\n",
    "            self.trees.append([model,alpha_m])\n",
    "\n",
    "            # update weight coeffecients\n",
    "            distribution = distribution*np.exp(alpha_m*(1-bool_arr))\n",
    "            distribution /= np.sum(distribution)\n",
    "    \n",
    "    def predict(self,X):\n",
    "        predict=np.zeros(X.shape[0])\n",
    "        for model,alpha_m in self.trees:\n",
    "            predict+=model.predict(X)*alpha_m\n",
    "        \n",
    "        predict[predict>=0]=1\n",
    "        predict[predict<0]=0\n",
    "        return predict\n"
   ]
  },
  {
   "cell_type": "code",
   "execution_count": 55,
   "metadata": {},
   "outputs": [
    {
     "name": "stdout",
     "output_type": "stream",
     "text": [
      "+---------+----------+----------------------+\n",
      "| n_trees | accuracy |    training_time     |\n",
      "+---------+----------+----------------------+\n",
      "|   40.0  |  0.655   | 0.017105817794799805 |\n",
      "|   50.0  |   0.62   | 0.018508434295654297 |\n",
      "|  100.0  |  0.567   | 0.017939090728759766 |\n",
      "|   80.0  |  0.556   | 0.014925241470336914 |\n",
      "|   20.0  |  0.532   | 0.01844644546508789  |\n",
      "|  500.0  |   0.48   | 0.01704263687133789  |\n",
      "|   60.0  |  0.474   | 0.019953250885009766 |\n",
      "|   70.0  |  0.456   | 0.019801855087280273 |\n",
      "|   30.0  |  0.392   |  0.0199282169342041  |\n",
      "+---------+----------+----------------------+\n"
     ]
    }
   ],
   "source": [
    "# Hyper parameter tuning\n",
    "\n",
    "from prettytable import PrettyTable\n",
    "import time\n",
    "\n",
    "results = []\n",
    "\n",
    "for num_trees in [20,30,40,50,60,70,80,100,500]:\n",
    "                    start_time = time.time()\n",
    "\n",
    "                    model = AdaBoostCls(num_estimators=num_trees)\n",
    "                    model.fit(X_train_classification,y_train_classification)\n",
    "                    y_pred = model.predict(X_val_classification)\n",
    "                    y_pred = y_pred.astype(int)\n",
    "                    accuracy = np.mean(y_pred.astype(int)==y_val_classification)\n",
    "\n",
    "                    training_time = time.time() - start_time\n",
    "                    \n",
    "                    results.append({\n",
    "                            \"n_trees\": num_trees,\n",
    "                            \"accuracy\" : round(accuracy,3),\n",
    "                            \"training_time\" : training_time\n",
    "                })\n",
    "\n",
    "\n",
    "# Convert the results list to a DataFrame\n",
    "df = pd.DataFrame(results)\n",
    "\n",
    "# Sort the DataFrame by accuracy in descending order and select the top 10\n",
    "top_10_accuracies = df.sort_values(by=\"accuracy\", ascending=False).head(10)\n",
    "\n",
    "# Create a PrettyTable object\n",
    "table = PrettyTable()\n",
    "\n",
    "# Define your column names\n",
    "column_names = [\"n_trees\",\"accuracy\",\"training_time\"]\n",
    "\n",
    "# Set the column names\n",
    "table.field_names = column_names\n",
    "\n",
    "# Iterate through the results and add rows\n",
    "for index, row in top_10_accuracies.iterrows():\n",
    "    table.add_row([row[\"n_trees\"],row[\"accuracy\"],row[\"training_time\"]])\n",
    "\n",
    "# Print the table with borders and headers\n",
    "print(table)"
   ]
  },
  {
   "cell_type": "code",
   "execution_count": 56,
   "metadata": {},
   "outputs": [
    {
     "name": "stdout",
     "output_type": "stream",
     "text": [
      "Accuracy for best model classification : 0.6198830409356725\n"
     ]
    }
   ],
   "source": [
    "## Testing the best model on test data\n",
    "\n",
    "model = AdaBoostCls(num_estimators=num_trees)\n",
    "model.fit(X_train_classification,y_train_classification)\n",
    "y_pred = model.predict(X_val_classification)\n",
    "y_pred = y_pred.astype(int)\n",
    "accuracy = np.mean(y_pred.astype(int)==y_val_classification)\n",
    "\n",
    "print(f\"Accuracy for best model classification :\",accuracy)"
   ]
  },
  {
   "cell_type": "code",
   "execution_count": 7,
   "metadata": {},
   "outputs": [
    {
     "name": "stdout",
     "output_type": "stream",
     "text": [
      "Sorted n_trees: [20.0, 30.0, 40.0, 50.0, 60.0, 70.0, 80.0, 100.0, 500.0]\n",
      "Corresponding accuracy: [0.532, 0.392, 0.655, 0.62, 0.474, 0.456, 0.556, 0.567, 0.48]\n",
      "Corresponding training_time: [0.01844644546508789, 0.0199282169342041, 0.017105817794799805, 0.018508434295654297, 0.019953250885009766, 0.019801855087280273, 0.014925241470336914, 0.017939090728759766, 0.01704263687133789]\n"
     ]
    }
   ],
   "source": [
    "# Given data\n",
    "n_trees_values = [40.0, 50.0, 100.0, 80.0, 20.0, 500.0, 60.0, 70.0, 30.0]\n",
    "accuracy_values = [0.655, 0.62, 0.567, 0.556, 0.532, 0.48, 0.474, 0.456, 0.392]\n",
    "training_time_values = [0.017105817794799805, 0.018508434295654297, 0.017939090728759766, 0.014925241470336914, 0.01844644546508789, 0.01704263687133789, 0.019953250885009766, 0.019801855087280273, 0.0199282169342041]\n",
    "\n",
    "# Sorting based on n_trees\n",
    "sorted_indices = sorted(range(len(n_trees_values)), key=lambda k: n_trees_values[k])\n",
    "sorted_n_trees = [n_trees_values[i] for i in sorted_indices]\n",
    "sorted_accuracy = [accuracy_values[i] for i in sorted_indices]\n",
    "sorted_training_time = [training_time_values[i] for i in sorted_indices]\n",
    "\n",
    "# Display the sorted lists\n",
    "print(\"Sorted n_trees:\", sorted_n_trees)\n",
    "print(\"Corresponding accuracy:\", sorted_accuracy)\n",
    "print(\"Corresponding training_time:\", sorted_training_time)"
   ]
  },
  {
   "cell_type": "code",
   "execution_count": 8,
   "metadata": {},
   "outputs": [
    {
     "name": "stderr",
     "output_type": "stream",
     "text": [
      "No artists with labels found to put in legend.  Note that artists whose label start with an underscore are ignored when legend() is called with no argument.\n"
     ]
    },
    {
     "data": {
      "image/png": "[encoded data removed]",
      "text/plain": [
       "<Figure size 432x288 with 1 Axes>"
      ]
     },
     "metadata": {
      "needs_background": "light"
     },
     "output_type": "display_data"
    }
   ],
   "source": [
    "import matplotlib.pyplot as plt\n",
    "\n",
    "# Example data\n",
    "x_values = sorted_n_trees\n",
    "y_values = sorted_accuracy\n",
    "\n",
    "# Plotting the data\n",
    "plt.plot(x_values, y_values)\n",
    "\n",
    "# Adding labels and title\n",
    "plt.xlabel('num_estimators')\n",
    "plt.ylabel('accuracy')\n",
    "plt.title('accuracy vs num_estimators')\n",
    "\n",
    "# Adding legend\n",
    "plt.legend()\n",
    "\n",
    "# Display the plot\n",
    "plt.show()"
   ]
  },
  {
   "cell_type": "code",
   "execution_count": 9,
   "metadata": {},
   "outputs": [
    {
     "name": "stderr",
     "output_type": "stream",
     "text": [
      "No artists with labels found to put in legend.  Note that artists whose label start with an underscore are ignored when legend() is called with no argument.\n"
     ]
    },
    {
     "data": {
      "image/png": "[encoded data removed]",
      "text/plain": [
       "<Figure size 432x288 with 1 Axes>"
      ]
     },
     "metadata": {
      "needs_background": "light"
     },
     "output_type": "display_data"
    }
   ],
   "source": [
    "import matplotlib.pyplot as plt\n",
    "\n",
    "# Example data\n",
    "x_values = sorted_n_trees\n",
    "y_values = sorted_training_time\n",
    "\n",
    "# Plotting the data\n",
    "plt.plot(x_values, y_values)\n",
    "\n",
    "# Adding labels and title\n",
    "plt.xlabel('num_estimators')\n",
    "plt.ylabel('training_time')\n",
    "plt.title('training_time vs num_estimators')\n",
    "\n",
    "# Adding legend\n",
    "plt.legend()\n",
    "\n",
    "# Display the plot\n",
    "plt.show()"
   ]
  },
  {
   "attachments": {},
   "cell_type": "markdown",
   "metadata": {},
   "source": [
    "##### Reason : It actually breaks when accuracy of a stump  becomes 100 % "
   ]
  },
  {
   "attachments": {},
   "cell_type": "markdown",
   "metadata": {},
   "source": [
    "## Adaboost Regression Trees"
   ]
  },
  {
   "cell_type": "code",
   "execution_count": 18,
   "metadata": {},
   "outputs": [],
   "source": [
    "import numpy as np\n",
    "from sklearn.tree import DecisionTreeRegressor\n",
    "\n",
    "\"\"\"\n",
    "Taken help from blog and chatgpt\n",
    "\"\"\"\n",
    "\n",
    "class AdaBoostR2:\n",
    "    def __init__(self, num_estimators=10, max_depth=1):\n",
    "        self.num_estimators = num_estimators\n",
    "        self.max_depth = max_depth\n",
    "    \n",
    "    def calculate_median_weighted(self, values, weights):\n",
    "        sorted_indices = np.argsort(values)\n",
    "        values = values[sorted_indices]\n",
    "        weights = weights[sorted_indices]\n",
    "        weights_cumulative_sum = weights.cumsum()\n",
    "        median_weight_index = np.argmax(weights_cumulative_sum >= sum(weights) / 2)\n",
    "        return values[median_weight_index]\n",
    "\n",
    "    def sample_with_replacement(self):\n",
    "        return np.random.choice(np.arange(self.N), size=self.N, replace=True, p=self.sample_weights)\n",
    "\n",
    "    def train_single_estimator(self, X_train, y_train, sample_indices):\n",
    "        tree = DecisionTreeRegressor(max_depth=self.max_depth)\n",
    "        tree.fit(X_train[sample_indices], y_train[sample_indices])\n",
    "        return tree.predict(X_train)\n",
    "\n",
    "    def fit(self, X_train, y_train):\n",
    "        self.y_train = y_train\n",
    "        self.X_train = X_train\n",
    "\n",
    "        self.N, self.D = X_train.shape\n",
    "        self.sample_weights = np.repeat(1 / self.N, self.N)\n",
    "        np.random.seed(42)\n",
    "\n",
    "        self.estimators = []    \n",
    "        self.predictions = np.empty((self.N, self.num_estimators))\n",
    "        self.betas = []\n",
    "\n",
    "        for t in range(self.num_estimators):\n",
    "            # Sampling from the dataset with replacement\n",
    "            sample_indices = self.sample_with_replacement()\n",
    "            \n",
    "            # Training a single estimator\n",
    "            yhat = self.train_single_estimator(X_train, y_train, sample_indices)\n",
    "            \n",
    "            # Prediction on the training set\n",
    "            self.estimators.append(yhat)\n",
    "            self.predictions[:, t] = yhat\n",
    "            \n",
    "            abs_errors_t = np.abs(self.y_train - yhat)\n",
    "            D_t = np.max(abs_errors_t)\n",
    "            L_ts = abs_errors_t / D_t\n",
    "            \n",
    "            Lbar_t = np.sum(self.sample_weights * L_ts)\n",
    "            \n",
    "            if Lbar_t >= 0.5:\n",
    "                self.num_estimators = t - 1\n",
    "                self.predictions = self.predictions[:, :t - 1]\n",
    "                self.estimators = self.estimators[:t - 1]\n",
    "                break\n",
    "            \n",
    "            beta_t = Lbar_t / (1 - Lbar_t)\n",
    "            self.betas.append(beta_t)\n",
    "            \n",
    "            Z_t = np.sum(self.sample_weights * beta_t ** (1 - L_ts))\n",
    "            self.sample_weights *= beta_t ** (1 - L_ts) / Z_t\n",
    "            \n",
    "        self.model_weights = np.log(1 / np.array(self.betas))\n",
    "        self.y_train_predicted = np.array([self.calculate_median_weighted(self.predictions[n], self.model_weights) for n in range(self.N)])\n",
    "        \n",
    "    def predict(self, X_test):\n",
    "        N_test = len(X_test)\n",
    "        test_predictions = np.empty((N_test, self.num_estimators))\n",
    "        for t, yhat in enumerate(self.estimators):\n",
    "            test_predictions[:, t] = yhat.predict(X_test)\n",
    "        return np.array([self.calculate_median_weighted(test_predictions[n], self.model_weights) for n in range(N_test)])"
   ]
  },
  {
   "attachments": {},
   "cell_type": "markdown",
   "metadata": {},
   "source": [
    "### Testing Regression Adaboost Model"
   ]
  },
  {
   "cell_type": "code",
   "execution_count": 65,
   "metadata": {},
   "outputs": [
    {
     "name": "stdout",
     "output_type": "stream",
     "text": [
      "+---------+----------+-----------------------+\n",
      "| n_trees | mse_loss |     training_time     |\n",
      "+---------+----------+-----------------------+\n",
      "|   5.0   |  25.475  | 0.0063130855560302734 |\n",
      "|   4.0   |  25.863  |  0.006250143051147461 |\n",
      "|   3.0   |  25.863  |  0.003926277160644531 |\n",
      "|   2.0   |  30.228  | 0.0037305355072021484 |\n",
      "|   1.0   |  30.228  |  0.004539966583251953 |\n",
      "|   30.0  |  33.611  |  0.017393827438354492 |\n",
      "|   50.0  |  33.611  |  0.016408920288085938 |\n",
      "|   40.0  |  33.611  |  0.01608729362487793  |\n",
      "|  100.0  |  33.611  |  0.015802383422851562 |\n",
      "|  500.0  |  33.611  |  0.01602458953857422  |\n",
      "+---------+----------+-----------------------+\n"
     ]
    }
   ],
   "source": [
    "## Hyperparameter tuning\n",
    "\n",
    "\n",
    "from prettytable import PrettyTable\n",
    "import time\n",
    "\n",
    "results = []\n",
    "\n",
    "for num_trees in [1,2,3,4,5,10,20,30,40,50,60,70,100,500]:\n",
    "                    start_time = time.time()\n",
    "\n",
    "                    model = AdaBoostR2(num_estimators=num_trees)\n",
    "                    model.fit(X_train_regression,y_train_regression)\n",
    "                    y_pred = model.predict(X_val_regression)\n",
    "                    mse_loss = np.mean((y_pred-y_val_regression)**2)\n",
    "\n",
    "                    training_time = time.time() - start_time\n",
    "                    \n",
    "                    results.append({\n",
    "                            \"n_trees\": num_trees,\n",
    "                            \"mse_loss\" : round(mse_loss,3),\n",
    "                            \"training_time\" : training_time\n",
    "                })\n",
    "\n",
    "\n",
    "# Convert the results list to a DataFrame\n",
    "df = pd.DataFrame(results)\n",
    "\n",
    "# Sort the DataFrame by accuracy in descending order and select the top 10\n",
    "top_10_accuracies = df.sort_values(by=\"mse_loss\", ascending=True).head(10)\n",
    "\n",
    "# Create a PrettyTable object\n",
    "table = PrettyTable()\n",
    "\n",
    "# Define your column names\n",
    "column_names = [\"n_trees\",\"mse_loss\",\"training_time\"]\n",
    "\n",
    "# Set the column names\n",
    "table.field_names = column_names\n",
    "\n",
    "# Iterate through the results and add rows\n",
    "for index, row in top_10_accuracies.iterrows():\n",
    "    table.add_row([row[\"n_trees\"],row[\"mse_loss\"],row[\"training_time\"]])\n",
    "\n",
    "# Print the table with borders and headers\n",
    "print(table)"
   ]
  },
  {
   "cell_type": "code",
   "execution_count": 4,
   "metadata": {},
   "outputs": [
    {
     "name": "stdout",
     "output_type": "stream",
     "text": [
      "Sorted n_trees: [1.0, 2.0, 3.0, 4.0, 5.0, 30.0, 40.0, 50.0, 100.0, 500.0]\n",
      "Corresponding mse_loss: [30.228, 30.228, 25.863, 25.863, 25.475, 33.611, 33.611, 33.611, 33.611, 33.611]\n",
      "Corresponding training_time: [0.004539966583251953, 0.0037305355072021484, 0.003926277160644531, 0.006250143051147461, 0.0063130855560302734, 0.017393827438354492, 0.01608729362487793, 0.016408920288085938, 0.015802383422851562, 0.01602458953857422]\n"
     ]
    }
   ],
   "source": [
    "# Given data\n",
    "n_trees_values = [5.0, 4.0, 3.0, 2.0, 1.0, 30.0, 50.0, 40.0, 100.0, 500.0]\n",
    "mse_loss_values = [25.475, 25.863, 25.863, 30.228, 30.228, 33.611, 33.611, 33.611, 33.611, 33.611]\n",
    "training_time_values = [0.0063130855560302734, 0.006250143051147461, 0.003926277160644531, 0.0037305355072021484, 0.004539966583251953, 0.017393827438354492, 0.016408920288085938, 0.01608729362487793, 0.015802383422851562, 0.01602458953857422]\n",
    "\n",
    "# Sorting based on n_trees\n",
    "sorted_indices = sorted(range(len(n_trees_values)), key=lambda k: n_trees_values[k])\n",
    "sorted_n_trees = [n_trees_values[i] for i in sorted_indices]\n",
    "sorted_mse_loss = [mse_loss_values[i] for i in sorted_indices]\n",
    "sorted_training_time = [training_time_values[i] for i in sorted_indices]\n",
    "\n",
    "# Display the sorted lists\n",
    "print(\"Sorted n_trees:\", sorted_n_trees)\n",
    "print(\"Corresponding mse_loss:\", sorted_mse_loss)\n",
    "print(\"Corresponding training_time:\", sorted_training_time)"
   ]
  },
  {
   "cell_type": "code",
   "execution_count": 5,
   "metadata": {},
   "outputs": [
    {
     "name": "stderr",
     "output_type": "stream",
     "text": [
      "No artists with labels found to put in legend.  Note that artists whose label start with an underscore are ignored when legend() is called with no argument.\n"
     ]
    },
    {
     "data": {
      "image/png": "[encoded data removed]",
      "text/plain": [
       "<Figure size 432x288 with 1 Axes>"
      ]
     },
     "metadata": {
      "needs_background": "light"
     },
     "output_type": "display_data"
    }
   ],
   "source": [
    "import matplotlib.pyplot as plt\n",
    "\n",
    "# Example data\n",
    "x_values = sorted_n_trees\n",
    "y_values = sorted_mse_loss\n",
    "\n",
    "# Plotting the data\n",
    "plt.plot(x_values, y_values)\n",
    "\n",
    "# Adding labels and title\n",
    "plt.xlabel('Estimators')\n",
    "plt.ylabel('mse_loss')\n",
    "plt.title('MSE_LOSS vs Estimators')\n",
    "\n",
    "# Adding legend\n",
    "plt.legend()\n",
    "\n",
    "# Display the plot\n",
    "plt.show()"
   ]
  },
  {
   "cell_type": "code",
   "execution_count": 6,
   "metadata": {},
   "outputs": [
    {
     "name": "stderr",
     "output_type": "stream",
     "text": [
      "No artists with labels found to put in legend.  Note that artists whose label start with an underscore are ignored when legend() is called with no argument.\n"
     ]
    },
    {
     "data": {
      "image/png": "[encoded data removed]",
      "text/plain": [
       "<Figure size 432x288 with 1 Axes>"
      ]
     },
     "metadata": {
      "needs_background": "light"
     },
     "output_type": "display_data"
    }
   ],
   "source": [
    "import matplotlib.pyplot as plt\n",
    "\n",
    "# Example data\n",
    "x_values = sorted_n_trees\n",
    "y_values = sorted_training_time\n",
    "\n",
    "# Plotting the data\n",
    "plt.plot(x_values, y_values)\n",
    "\n",
    "# Adding labels and title\n",
    "plt.xlabel('Estimators')\n",
    "plt.ylabel('training_time')\n",
    "plt.title('Training_time vs Estimators')\n",
    "\n",
    "# Adding legend\n",
    "plt.legend()\n",
    "\n",
    "# Display the plot\n",
    "plt.show()"
   ]
  },
  {
   "attachments": {},
   "cell_type": "markdown",
   "metadata": {},
   "source": [
    "### Best model is n_trees = 5 with decision stumps and mse_loss : 25.475"
   ]
  },
  {
   "cell_type": "code",
   "execution_count": 66,
   "metadata": {},
   "outputs": [
    {
     "name": "stdout",
     "output_type": "stream",
     "text": [
      "mse_loss for the best model regression is (adaboost) :  49.33398246476862\n"
     ]
    }
   ],
   "source": [
    "## Testing on the best model\n",
    "\n",
    "model = AdaBoostR2(num_estimators=5)\n",
    "model.fit(X_train_regression,y_train_regression)\n",
    "y_pred = model.predict(X_test_regression)\n",
    "mse_loss = np.mean((y_pred-y_test_regression)**2)\n",
    "\n",
    "print(f\"mse_loss for the best model regression is (adaboost) : \",mse_loss)"
   ]
  },
  {
   "attachments": {},
   "cell_type": "markdown",
   "metadata": {},
   "source": [
    "## Analysis of the boosting models (AdaBoost & GradBoost)"
   ]
  },
  {
   "attachments": {},
   "cell_type": "markdown",
   "metadata": {},
   "source": [
    "# Analysis of Mistakes in Gradient Boosting + Decision Trees\n",
    "\n",
    "## Common Mistakes:\n",
    "\n",
    "1. **Overfitting:**\n",
    "   - **Issue:** Gradient boosting can be prone to overfitting, especially if the base decision trees are deep.\n",
    "   - **Explanation:** As each tree corrects the errors of the previous ones, if the trees are too complex, they can capture noise in the data, leading to overfitting.\n",
    "\n",
    "2. **Sensitivity to Noisy Data:**\n",
    "   - **Issue:** Gradient boosting can be sensitive to outliers and noisy data.\n",
    "   - **Explanation:** Outliers can have a substantial impact on the model, and since boosting focuses on correcting errors, it might give too much weight to outliers.\n",
    "\n",
    "3. **Computationally Intensive:**\n",
    "   - **Issue:** Training a large number of decision trees can be computationally expensive.\n",
    "   - **Explanation:** Gradient boosting involves sequentially adding trees to correct errors, and each tree is trained to minimize the residual errors. This sequential nature makes it more computationally intensive compared to parallel methods.\n",
    "\n",
    "## Feature Similarity in Common Mistakes:\n",
    "\n",
    "1. **Tree Structure:**\n",
    "   - Both models rely on decision trees, and the structure of these trees can contribute to overfitting. If decision trees are allowed to grow too deep or are not pruned properly, they may capture noise instead of underlying patterns.\n",
    "\n",
    "2. **Error Correction:**\n",
    "   - Both models work by sequentially correcting errors made by the previous models. If the errors are noisy or if there's overfitting in the individual trees, this sequential correction might lead to an overly complex final model.\n",
    "\n",
    "3. **Sensitivity to Outliers:**\n",
    "   - Since both models aim to correct errors, they can be sensitive to outliers. Outliers may introduce noise that the models try to fit, leading to suboptimal generalization.\n",
    "\n",
    "4. **Ensemble Nature:**\n",
    "   - Both models are ensemble methods that combine weak learners to create a strong learner. While this can improve predictive performance, it also introduces complexities, such as potential overfitting and sensitivity to noisy data.\n",
    "\n",
    "# Analysis of Mistakes in Adaboost + Decision Trees\n",
    "\n",
    "## Common Mistakes:\n",
    "\n",
    "1. **Overfitting:**\n",
    "   - **Issue:** Adaboost can be susceptible to overfitting, especially if the base learners are too complex.\n",
    "   - **Explanation:** Similar to gradient boosting, Adaboost focuses on correcting misclassifications by assigning higher weights to misclassified instances. If the base learners are too complex, they might overfit to the training data.\n",
    "\n",
    "2. **Noisy Data Impact:**\n",
    "   - **Issue:** Adaboost is sensitive to noisy data and outliers.\n",
    "   - **Explanation:** As Adaboost gives more weight to misclassified instances, noisy data points or outliers can significantly influence the model's decision boundaries.\n",
    "\n",
    "3. **Computational Complexity:**\n",
    "   - **Issue:** Training multiple weak learners sequentially can be computationally expensive.\n",
    "   - **Explanation:** Adaboost builds an ensemble by giving more weight to misclassified instances. This sequential process may be time-consuming, especially if the weak learners are computationally expensive.\n",
    "\n",
    "## Feature Similarity in Common Mistakes:\n",
    "\n",
    "1. **Weak Learners:**\n",
    "   - Both models rely on decision trees as weak learners. If these trees are too complex or not properly constrained, they can contribute to overfitting.\n",
    "\n",
    "2. **Error Correction:**\n",
    "   - Both Adaboost and gradient boosting work by iteratively correcting errors made by the previous models. This sequential correction can be a source of overfitting if the base learners are too flexible.\n",
    "\n",
    "3. **Sensitivity to Noisy Data:**\n",
    "   - Both models are sensitive to noisy data and outliers. Since they focus on correcting errors, noisy data points may have a disproportionate influence on the final model.\n",
    "\n",
    "4. **Ensemble Nature:**\n",
    "   - Adaboost, like gradient boosting, is an ensemble method. The ensemble nature can lead to overfitting if not properly regularized or if weak learners are too complex.\n",
    "\n",
    "### Overall Similarities:\n",
    "Both models share similarities in terms of their reliance on decision trees, sequential error correction, and sensitivity to noisy data. Ensuring proper regularization of base learners, limiting tree depth, and considering the impact of outliers are crucial for mitigating these common mistakes in both gradient boosting and Adaboost with decision trees."
   ]
  },
  {
   "cell_type": "markdown",
   "metadata": {},
   "source": [
    "# END"
   ]
  },
  {
   "cell_type": "markdown",
   "metadata": {},
   "source": []
  }
 ],
 "metadata": {
  "kernelspec": {
   "display_name": "Python 3",
   "language": "python",
   "name": "python3"
  },
  "language_info": {
   "codemirror_mode": {
    "name": "ipython",
    "version": 3
   },
   "file_extension": ".py",
   "mimetype": "text/x-python",
   "name": "python",
   "nbconvert_exporter": "python",
   "pygments_lexer": "ipython3",
   "version": "3.10.12"
  },
  "orig_nbformat": 4
 },
 "nbformat": 4,
 "nbformat_minor": 2
}
